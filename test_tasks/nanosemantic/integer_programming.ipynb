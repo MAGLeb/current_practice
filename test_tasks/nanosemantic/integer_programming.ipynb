{
 "cells": [
  {
   "cell_type": "code",
   "execution_count": 238,
   "id": "9fcd957a",
   "metadata": {},
   "outputs": [],
   "source": [
    "from mip import Model, xsum, minimize, BINARY, OptimizationStatus\n",
    "from random import randint"
   ]
  },
  {
   "cell_type": "code",
   "execution_count": 424,
   "id": "d20512c8",
   "metadata": {},
   "outputs": [],
   "source": [
    "class OptimizeModelWarehouse():\n",
    "    def __init__(self, cap, cost, d, coord_ware, coord_client):\n",
    "        self.cap = cap\n",
    "        self.cost = cost\n",
    "        self.d = d\n",
    "        \n",
    "        self.N = len(cap)\n",
    "        self.M = len(d)\n",
    "        \n",
    "        self.distances = [[self._calculate_euclidean_distance(crd_clnt, crd_wr) for crd_wr in coord_ware] for crd_clnt in coord_client]\n",
    "        \n",
    "        self.status = None\n",
    "        self.model = None\n",
    "        self.a = None\n",
    "        \n",
    "    def optimize(self, max_time: int = 3600):\n",
    "        self.model = Model()\n",
    "\n",
    "        self.a = [[self.model.add_var(var_type=BINARY) for _ in range(self.N)] for _ in range(self.M)]\n",
    "\n",
    "        self.model.objective = minimize(xsum((1 if sum([x[j] for x in self.a]) != 0 else 0) * self.cost[j] for j in range(self.N)) +\n",
    "                               xsum(xsum(self.a[i][j] * self.distances[i][j] for i in range(self.M)) for j in range(self.N)))\n",
    "\n",
    "        for i in range(self.M):\n",
    "            self.model += xsum(self.a[i][j] for j in range(self.N)) == 1\n",
    "\n",
    "        for j in range(self.N):\n",
    "            self.model += xsum(self.a[i][j] * self.d[i] for i in range(self.M)) <= self.cap[j]\n",
    "        \n",
    "        self.status = status = self.model.optimize(max_seconds=3600)\n",
    "        \n",
    "    def print_result(self):\n",
    "        obj, clients = self._find_obj_clients()\n",
    "        opt = self._find_opt()\n",
    "        \n",
    "        if opt == 0:\n",
    "            print(\"There is no optimal solution.\")\n",
    "            return\n",
    "\n",
    "        print(' '.join(map(str, [obj, opt])))\n",
    "        \n",
    "        for i, client in enumerate(clients):\n",
    "            print(f\"{i} warehouse used by: {' '.join(map(str, client))}\")\n",
    "    \n",
    "    def _find_opt(self):\n",
    "        if self.status == OptimizationStatus.OPTIMAL:\n",
    "            opt = 1\n",
    "        else:\n",
    "            opt = 0\n",
    "        \n",
    "        return opt\n",
    "    \n",
    "    def _find_obj_clients(self):\n",
    "        clients = []\n",
    "        obj = 0\n",
    "        \n",
    "        for j in range(self.N):\n",
    "            inter = []\n",
    "            \n",
    "            for i in range(self.M):\n",
    "                if self.a[i][j].x == 1:\n",
    "                    if len(inter) == 0:\n",
    "                        obj += self.cost[j]\n",
    "                    inter.append(i)\n",
    "            clients.append(inter)\n",
    "\n",
    "        return obj, clients\n",
    "\n",
    "    def _calculate_euclidean_distance(self, f_coord: list, s_coord: list):\n",
    "        \"\"\"\n",
    "        Calculate Euclidean distance only for 2(two) dimensions.\n",
    "\n",
    "        params f_coord: list[int, int]: coordinates(x, y) of first object.\n",
    "        params s_coord: list[int, int]: coordinates(x, y) of second object.\n",
    "        return int: return Euclidean distance. \n",
    "        \"\"\"\n",
    "\n",
    "        if len(f_coord) != 2 or len(s_coord) != 2:\n",
    "            raise ValueError(\"Only 2(two) dimensions distance can be calculated.\")\n",
    "\n",
    "        return ((f_coord[0] - s_coord[0]) ** 2 + (f_coord[1] - s_coord[1]) ** 2) ** (1/2)\n"
   ]
  },
  {
   "cell_type": "markdown",
   "id": "983e3708",
   "metadata": {},
   "source": [
    "### Example of class usage."
   ]
  },
  {
   "cell_type": "code",
   "execution_count": 425,
   "id": "ddf16a91",
   "metadata": {},
   "outputs": [],
   "source": [
    "def generate_distances(n: int, min_range: int = 0, max_range: int = 100):\n",
    "    \"\"\"\n",
    "    Generate pair of [x, y] where x and y coordinates.\n",
    "    \n",
    "    params n: int: number pairs.\n",
    "    params min_range: int; default = 0: minimum range of surface.\n",
    "    params max_range: int; default = 100: maximum range of surface.\n",
    "    return [lists]: list of pairs.\n",
    "    \"\"\"\n",
    "    \n",
    "    distances = []\n",
    "    for _ in range(n):\n",
    "        x = randint(min_range, max_range)\n",
    "        y = randint(min_range, max_range)\n",
    "        distances.append([x, y])\n",
    "    \n",
    "    return distances\n",
    "    "
   ]
  },
  {
   "cell_type": "code",
   "execution_count": 432,
   "id": "7941e619",
   "metadata": {},
   "outputs": [],
   "source": [
    "cap = [230, 130, 180, 310, 170, 105]\n",
    "cost = [1100, 1500, 2000, 3500, 1000, 3030]\n",
    "d = [20, 30, 50, 55, 33, 90, 25, 60, 66, 42, 19, 24, 97, 11, 55, 7, 113, 84, 49, 77]\n",
    "\n",
    "coord_ware = generate_distances(len(cap))\n",
    "coord_client = generate_distances(len(d))\n"
   ]
  },
  {
   "cell_type": "code",
   "execution_count": 433,
   "id": "4428196d",
   "metadata": {},
   "outputs": [
    {
     "name": "stdout",
     "output_type": "stream",
     "text": [
      "12130 1\n",
      "0 warehouse used by: 1 3 4 17\n",
      "1 warehouse used by: 9 19\n",
      "2 warehouse used by: 5 8 13\n",
      "3 warehouse used by: 7 14 16 18\n",
      "4 warehouse used by: 0 6 10 12 15\n",
      "5 warehouse used by: 2 11\n"
     ]
    }
   ],
   "source": [
    "model = OptimizeModelWarehouse(cap, cost, d, coord_ware, coord_client)\n",
    "model.optimize()\n",
    "model.print_result()"
   ]
  },
  {
   "cell_type": "markdown",
   "id": "8caf34fb",
   "metadata": {},
   "source": [
    "### Example of usage from txt file."
   ]
  },
  {
   "cell_type": "code",
   "execution_count": 444,
   "id": "c9086db8",
   "metadata": {},
   "outputs": [],
   "source": [
    "files = ['fl_1000_2', 'fl_100_14', 'fl_100_8', 'fl_200_2', 'fl_25_1',\n",
    "         'fl_500_6', 'fl_50_6', 'fl_100_2', 'fl_100_9', 'fl_200_3', 'fl_1000_3',\n",
    "         'fl_25_2', 'fl_500_7', 'fl_100_3', 'fl_16_1', 'fl_200_4', 'fl_25_3',\n",
    "         'fl_50_1', 'fl_100_4', 'fl_16_2', 'fl_200_5', 'fl_25_4', 'fl_50_2',\n",
    "         'fl_100_5', 'fl_2000_2', 'fl_200_6', 'fl_25_5', 'fl_50_3',\n",
    "         'fl_100_6', 'fl_2000_3', 'fl_200_7', 'fl_3_1', 'fl_50_4',\n",
    "         'fl_100_7', 'fl_200_1', 'fl_200_8', 'fl_4000_1', 'fl_50_5',\n",
    "         'fl_100_11', 'fl_100_1', 'fl_100_10', 'fl_100_12', 'fl_100_13']"
   ]
  },
  {
   "cell_type": "code",
   "execution_count": 456,
   "id": "c806e56e",
   "metadata": {},
   "outputs": [],
   "source": [
    "filename = 'data/' + 'fl_25_1'\n",
    "\n",
    "with open(filename, 'r') as f:\n",
    "    N, M = map(int, f.readline().strip().split())\n",
    "    cap, cost = [], []\n",
    "    d = []\n",
    "    coord_ware, coord_client = [], []\n",
    "\n",
    "    for _ in range(N):\n",
    "        cap_, cost_, coord_ware_x, coord_ware_y = map(float, f.readline().strip().split())\n",
    "        cap.append(cap_)\n",
    "        cost.append(cost_)\n",
    "        coord_ware.append([coord_ware_x, coord_ware_y])\n",
    "\n",
    "    for _ in range(M):\n",
    "        d_, coord_client_x, coord_client_y = map(float, f.readline().strip().split())\n",
    "        d.append(d_)\n",
    "        coord_client.append([coord_client_x, coord_client_y])"
   ]
  },
  {
   "cell_type": "code",
   "execution_count": 457,
   "id": "90f5e918",
   "metadata": {},
   "outputs": [
    {
     "name": "stdout",
     "output_type": "stream",
     "text": [
      "105000.0 1\n",
      "0 warehouse used by: \n",
      "1 warehouse used by: \n",
      "2 warehouse used by: \n",
      "3 warehouse used by: 10\n",
      "4 warehouse used by: \n",
      "5 warehouse used by: \n",
      "6 warehouse used by: 6 17 37\n",
      "7 warehouse used by: 0 1 2 3 4 5 7 8 9 11 12 13 14 15 16 18 19 20 21 22 23 24 25 27 28 29 30 31 32 34 35 38 39 40 41 42 43 44 45 46 47 49\n",
      "8 warehouse used by: \n",
      "9 warehouse used by: 48\n",
      "10 warehouse used by: \n",
      "11 warehouse used by: 36\n",
      "12 warehouse used by: \n",
      "13 warehouse used by: \n",
      "14 warehouse used by: \n",
      "15 warehouse used by: \n",
      "16 warehouse used by: 33\n",
      "17 warehouse used by: \n",
      "18 warehouse used by: \n",
      "19 warehouse used by: \n",
      "20 warehouse used by: \n",
      "21 warehouse used by: 26\n",
      "22 warehouse used by: \n",
      "23 warehouse used by: \n",
      "24 warehouse used by: \n"
     ]
    }
   ],
   "source": [
    "model = OptimizeModelWarehouse(cap, cost, d, coord_ware, coord_client)\n",
    "model.optimize()\n",
    "model.print_result()"
   ]
  },
  {
   "cell_type": "code",
   "execution_count": null,
   "id": "950b1534",
   "metadata": {},
   "outputs": [],
   "source": []
  }
 ],
 "metadata": {
  "kernelspec": {
   "display_name": "Python 3",
   "language": "python",
   "name": "python3"
  },
  "language_info": {
   "codemirror_mode": {
    "name": "ipython",
    "version": 3
   },
   "file_extension": ".py",
   "mimetype": "text/x-python",
   "name": "python",
   "nbconvert_exporter": "python",
   "pygments_lexer": "ipython3",
   "version": "3.8.5"
  }
 },
 "nbformat": 4,
 "nbformat_minor": 5
}
