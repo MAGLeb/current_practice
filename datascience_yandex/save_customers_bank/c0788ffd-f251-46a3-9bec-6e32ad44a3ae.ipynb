{
 "cells": [
  {
   "cell_type": "markdown",
   "metadata": {},
   "source": [
    "<h1 class=\"text_center\">Project description<br> <br>(Classification, ROC curve, TPR, FPR, PR curve, Threshold, Upsampling, Downsampling)</h1><br>\n",
    "Beta Bank customers are leaving: little by little, chipping away every month. The bankers figured out it’s cheaper to save the existing customers rather than to attract new ones.<br>\n",
    "\n",
    "We need to predict whether a customer will leave the bank soon. I have the data on clients’ past behavior and termination of contracts with the bank.<br>\n",
    "\n",
    "Additionally, measure the AUC-ROC metric and compare it with the F1."
   ]
  },
  {
   "cell_type": "markdown",
   "metadata": {},
   "source": [
    "<h3 class=\"text_center\">Data description</h3>\n",
    "\n",
    "**Features**<br>\n",
    "RowNumber — data string index<br> \n",
    "CustomerId — unique customer identifier<br> \n",
    "Surname — surname<br> \n",
    "CreditScore — credit score<br> \n",
    "Geography — country of residence<br> \n",
    "Gender — gender<br> \n",
    "Age — age<br> \n",
    "Tenure — period of maturation for a customer’s fixed deposit (years)<br> \n",
    "Balance — account balance<br> \n",
    "NumOfProducts — number of banking products used by the customer<br> \n",
    "HasCrCard — customer has a credit card<br> \n",
    "IsActiveMember — customer’s activeness<br> \n",
    "EstimatedSalary — estimated salary<br>\n",
    "\n",
    "**Target**<br> \n",
    "Exited — сustomer has left<br> \n",
    "\n",
    "https://www.kaggle.com/barelydedicated/bank-customer-churn-modeling"
   ]
  },
  {
   "cell_type": "code",
   "execution_count": 8,
   "metadata": {},
   "outputs": [],
   "source": [
    "import warnings\n",
    "warnings.simplefilter(action='ignore', category=FutureWarning)"
   ]
  },
  {
   "cell_type": "code",
   "execution_count": 9,
   "metadata": {},
   "outputs": [],
   "source": [
    "import pandas as pd\n",
    "import numpy as np\n",
    "\n",
    "import matplotlib.pyplot as plt\n",
    "\n",
    "from sklearn.linear_model import LogisticRegression\n",
    "from sklearn.ensemble import RandomForestClassifier\n",
    "\n",
    "from sklearn.preprocessing import StandardScaler, OrdinalEncoder\n",
    "from sklearn.model_selection import train_test_split\n",
    "from sklearn.metrics import f1_score, mean_absolute_error, mean_squared_error, recall_score, roc_curve, roc_auc_score\n",
    "from sklearn.metrics import accuracy_score, confusion_matrix, precision_score, precision_recall_curve\n",
    "from sklearn.utils import shuffle\n"
   ]
  },
  {
   "cell_type": "code",
   "execution_count": 10,
   "metadata": {},
   "outputs": [
    {
     "data": {
      "text/html": [
       "<div>\n",
       "<style scoped>\n",
       "    .dataframe tbody tr th:only-of-type {\n",
       "        vertical-align: middle;\n",
       "    }\n",
       "\n",
       "    .dataframe tbody tr th {\n",
       "        vertical-align: top;\n",
       "    }\n",
       "\n",
       "    .dataframe thead th {\n",
       "        text-align: right;\n",
       "    }\n",
       "</style>\n",
       "<table border=\"1\" class=\"dataframe\">\n",
       "  <thead>\n",
       "    <tr style=\"text-align: right;\">\n",
       "      <th></th>\n",
       "      <th>RowNumber</th>\n",
       "      <th>CustomerId</th>\n",
       "      <th>Surname</th>\n",
       "      <th>CreditScore</th>\n",
       "      <th>Geography</th>\n",
       "      <th>Gender</th>\n",
       "      <th>Age</th>\n",
       "      <th>Tenure</th>\n",
       "      <th>Balance</th>\n",
       "      <th>NumOfProducts</th>\n",
       "      <th>HasCrCard</th>\n",
       "      <th>IsActiveMember</th>\n",
       "      <th>EstimatedSalary</th>\n",
       "      <th>Exited</th>\n",
       "    </tr>\n",
       "  </thead>\n",
       "  <tbody>\n",
       "    <tr>\n",
       "      <td>0</td>\n",
       "      <td>1</td>\n",
       "      <td>15634602</td>\n",
       "      <td>Hargrave</td>\n",
       "      <td>619</td>\n",
       "      <td>France</td>\n",
       "      <td>Female</td>\n",
       "      <td>42</td>\n",
       "      <td>2.0</td>\n",
       "      <td>0.00</td>\n",
       "      <td>1</td>\n",
       "      <td>1</td>\n",
       "      <td>1</td>\n",
       "      <td>101348.88</td>\n",
       "      <td>1</td>\n",
       "    </tr>\n",
       "    <tr>\n",
       "      <td>1</td>\n",
       "      <td>2</td>\n",
       "      <td>15647311</td>\n",
       "      <td>Hill</td>\n",
       "      <td>608</td>\n",
       "      <td>Spain</td>\n",
       "      <td>Female</td>\n",
       "      <td>41</td>\n",
       "      <td>1.0</td>\n",
       "      <td>83807.86</td>\n",
       "      <td>1</td>\n",
       "      <td>0</td>\n",
       "      <td>1</td>\n",
       "      <td>112542.58</td>\n",
       "      <td>0</td>\n",
       "    </tr>\n",
       "    <tr>\n",
       "      <td>2</td>\n",
       "      <td>3</td>\n",
       "      <td>15619304</td>\n",
       "      <td>Onio</td>\n",
       "      <td>502</td>\n",
       "      <td>France</td>\n",
       "      <td>Female</td>\n",
       "      <td>42</td>\n",
       "      <td>8.0</td>\n",
       "      <td>159660.80</td>\n",
       "      <td>3</td>\n",
       "      <td>1</td>\n",
       "      <td>0</td>\n",
       "      <td>113931.57</td>\n",
       "      <td>1</td>\n",
       "    </tr>\n",
       "    <tr>\n",
       "      <td>3</td>\n",
       "      <td>4</td>\n",
       "      <td>15701354</td>\n",
       "      <td>Boni</td>\n",
       "      <td>699</td>\n",
       "      <td>France</td>\n",
       "      <td>Female</td>\n",
       "      <td>39</td>\n",
       "      <td>1.0</td>\n",
       "      <td>0.00</td>\n",
       "      <td>2</td>\n",
       "      <td>0</td>\n",
       "      <td>0</td>\n",
       "      <td>93826.63</td>\n",
       "      <td>0</td>\n",
       "    </tr>\n",
       "    <tr>\n",
       "      <td>4</td>\n",
       "      <td>5</td>\n",
       "      <td>15737888</td>\n",
       "      <td>Mitchell</td>\n",
       "      <td>850</td>\n",
       "      <td>Spain</td>\n",
       "      <td>Female</td>\n",
       "      <td>43</td>\n",
       "      <td>2.0</td>\n",
       "      <td>125510.82</td>\n",
       "      <td>1</td>\n",
       "      <td>1</td>\n",
       "      <td>1</td>\n",
       "      <td>79084.10</td>\n",
       "      <td>0</td>\n",
       "    </tr>\n",
       "  </tbody>\n",
       "</table>\n",
       "</div>"
      ],
      "text/plain": [
       "   RowNumber  CustomerId   Surname  CreditScore Geography  Gender  Age  \\\n",
       "0          1    15634602  Hargrave          619    France  Female   42   \n",
       "1          2    15647311      Hill          608     Spain  Female   41   \n",
       "2          3    15619304      Onio          502    France  Female   42   \n",
       "3          4    15701354      Boni          699    France  Female   39   \n",
       "4          5    15737888  Mitchell          850     Spain  Female   43   \n",
       "\n",
       "   Tenure    Balance  NumOfProducts  HasCrCard  IsActiveMember  \\\n",
       "0     2.0       0.00              1          1               1   \n",
       "1     1.0   83807.86              1          0               1   \n",
       "2     8.0  159660.80              3          1               0   \n",
       "3     1.0       0.00              2          0               0   \n",
       "4     2.0  125510.82              1          1               1   \n",
       "\n",
       "   EstimatedSalary  Exited  \n",
       "0        101348.88       1  \n",
       "1        112542.58       0  \n",
       "2        113931.57       1  \n",
       "3         93826.63       0  \n",
       "4         79084.10       0  "
      ]
     },
     "execution_count": 10,
     "metadata": {},
     "output_type": "execute_result"
    }
   ],
   "source": [
    "data_primary = pd.read_csv('./Churn.csv')\n",
    "data_primary.head()"
   ]
  },
  {
   "cell_type": "code",
   "execution_count": 11,
   "metadata": {},
   "outputs": [
    {
     "data": {
      "text/plain": [
       "(10000, 14)"
      ]
     },
     "execution_count": 11,
     "metadata": {},
     "output_type": "execute_result"
    }
   ],
   "source": [
    "data_primary.shape"
   ]
  },
  {
   "cell_type": "code",
   "execution_count": 12,
   "metadata": {},
   "outputs": [
    {
     "data": {
      "text/plain": [
       "RowNumber            0\n",
       "CustomerId           0\n",
       "Surname              0\n",
       "CreditScore          0\n",
       "Geography            0\n",
       "Gender               0\n",
       "Age                  0\n",
       "Tenure             909\n",
       "Balance              0\n",
       "NumOfProducts        0\n",
       "HasCrCard            0\n",
       "IsActiveMember       0\n",
       "EstimatedSalary      0\n",
       "Exited               0\n",
       "dtype: int64"
      ]
     },
     "execution_count": 12,
     "metadata": {},
     "output_type": "execute_result"
    }
   ],
   "source": [
    "data_primary.isnull().sum()"
   ]
  },
  {
   "cell_type": "code",
   "execution_count": 13,
   "metadata": {},
   "outputs": [],
   "source": [
    "data_primary.loc[data_primary['Tenure'].isnull(), 'Tenure'] = 5.0"
   ]
  },
  {
   "cell_type": "markdown",
   "metadata": {},
   "source": [
    "Fill NA in column Tenure with mean.\n",
    "\n",
    "Types of data columns are good. We just need delete some columns to use data for Classification."
   ]
  },
  {
   "cell_type": "code",
   "execution_count": 15,
   "metadata": {},
   "outputs": [
    {
     "data": {
      "text/html": [
       "<div>\n",
       "<style scoped>\n",
       "    .dataframe tbody tr th:only-of-type {\n",
       "        vertical-align: middle;\n",
       "    }\n",
       "\n",
       "    .dataframe tbody tr th {\n",
       "        vertical-align: top;\n",
       "    }\n",
       "\n",
       "    .dataframe thead th {\n",
       "        text-align: right;\n",
       "    }\n",
       "</style>\n",
       "<table border=\"1\" class=\"dataframe\">\n",
       "  <thead>\n",
       "    <tr style=\"text-align: right;\">\n",
       "      <th></th>\n",
       "      <th>Geography</th>\n",
       "      <th>Gender</th>\n",
       "      <th>Age</th>\n",
       "      <th>Tenure</th>\n",
       "      <th>Balance</th>\n",
       "      <th>NumOfProducts</th>\n",
       "      <th>HasCrCard</th>\n",
       "      <th>IsActiveMember</th>\n",
       "      <th>EstimatedSalary</th>\n",
       "      <th>Exited</th>\n",
       "    </tr>\n",
       "  </thead>\n",
       "  <tbody>\n",
       "    <tr>\n",
       "      <td>0</td>\n",
       "      <td>France</td>\n",
       "      <td>Female</td>\n",
       "      <td>42</td>\n",
       "      <td>2.0</td>\n",
       "      <td>0.00</td>\n",
       "      <td>1</td>\n",
       "      <td>1</td>\n",
       "      <td>1</td>\n",
       "      <td>101348.88</td>\n",
       "      <td>1</td>\n",
       "    </tr>\n",
       "    <tr>\n",
       "      <td>1</td>\n",
       "      <td>Spain</td>\n",
       "      <td>Female</td>\n",
       "      <td>41</td>\n",
       "      <td>1.0</td>\n",
       "      <td>83807.86</td>\n",
       "      <td>1</td>\n",
       "      <td>0</td>\n",
       "      <td>1</td>\n",
       "      <td>112542.58</td>\n",
       "      <td>0</td>\n",
       "    </tr>\n",
       "    <tr>\n",
       "      <td>2</td>\n",
       "      <td>France</td>\n",
       "      <td>Female</td>\n",
       "      <td>42</td>\n",
       "      <td>8.0</td>\n",
       "      <td>159660.80</td>\n",
       "      <td>3</td>\n",
       "      <td>1</td>\n",
       "      <td>0</td>\n",
       "      <td>113931.57</td>\n",
       "      <td>1</td>\n",
       "    </tr>\n",
       "    <tr>\n",
       "      <td>3</td>\n",
       "      <td>France</td>\n",
       "      <td>Female</td>\n",
       "      <td>39</td>\n",
       "      <td>1.0</td>\n",
       "      <td>0.00</td>\n",
       "      <td>2</td>\n",
       "      <td>0</td>\n",
       "      <td>0</td>\n",
       "      <td>93826.63</td>\n",
       "      <td>0</td>\n",
       "    </tr>\n",
       "    <tr>\n",
       "      <td>4</td>\n",
       "      <td>Spain</td>\n",
       "      <td>Female</td>\n",
       "      <td>43</td>\n",
       "      <td>2.0</td>\n",
       "      <td>125510.82</td>\n",
       "      <td>1</td>\n",
       "      <td>1</td>\n",
       "      <td>1</td>\n",
       "      <td>79084.10</td>\n",
       "      <td>0</td>\n",
       "    </tr>\n",
       "  </tbody>\n",
       "</table>\n",
       "</div>"
      ],
      "text/plain": [
       "  Geography  Gender  Age  Tenure    Balance  NumOfProducts  HasCrCard  \\\n",
       "0    France  Female   42     2.0       0.00              1          1   \n",
       "1     Spain  Female   41     1.0   83807.86              1          0   \n",
       "2    France  Female   42     8.0  159660.80              3          1   \n",
       "3    France  Female   39     1.0       0.00              2          0   \n",
       "4     Spain  Female   43     2.0  125510.82              1          1   \n",
       "\n",
       "   IsActiveMember  EstimatedSalary  Exited  \n",
       "0               1        101348.88       1  \n",
       "1               1        112542.58       0  \n",
       "2               0        113931.57       1  \n",
       "3               0         93826.63       0  \n",
       "4               1         79084.10       0  "
      ]
     },
     "execution_count": 15,
     "metadata": {},
     "output_type": "execute_result"
    }
   ],
   "source": [
    "data_prepared = data_primary.drop(['RowNumber', 'CreditScore', 'Surname', 'CustomerId'], axis=1)\n",
    "data_prepared.head()"
   ]
  },
  {
   "cell_type": "markdown",
   "metadata": {},
   "source": [
    "To classification we need change categorical observations to numerical. For LogisticRegression we will do dummies."
   ]
  },
  {
   "cell_type": "code",
   "execution_count": 16,
   "metadata": {},
   "outputs": [
    {
     "data": {
      "text/html": [
       "<div>\n",
       "<style scoped>\n",
       "    .dataframe tbody tr th:only-of-type {\n",
       "        vertical-align: middle;\n",
       "    }\n",
       "\n",
       "    .dataframe tbody tr th {\n",
       "        vertical-align: top;\n",
       "    }\n",
       "\n",
       "    .dataframe thead th {\n",
       "        text-align: right;\n",
       "    }\n",
       "</style>\n",
       "<table border=\"1\" class=\"dataframe\">\n",
       "  <thead>\n",
       "    <tr style=\"text-align: right;\">\n",
       "      <th></th>\n",
       "      <th>Age</th>\n",
       "      <th>Tenure</th>\n",
       "      <th>Balance</th>\n",
       "      <th>NumOfProducts</th>\n",
       "      <th>HasCrCard</th>\n",
       "      <th>IsActiveMember</th>\n",
       "      <th>EstimatedSalary</th>\n",
       "      <th>Exited</th>\n",
       "      <th>Geography_Germany</th>\n",
       "      <th>Geography_Spain</th>\n",
       "      <th>Gender_Male</th>\n",
       "    </tr>\n",
       "  </thead>\n",
       "  <tbody>\n",
       "    <tr>\n",
       "      <td>0</td>\n",
       "      <td>42</td>\n",
       "      <td>2.0</td>\n",
       "      <td>0.00</td>\n",
       "      <td>1</td>\n",
       "      <td>1</td>\n",
       "      <td>1</td>\n",
       "      <td>101348.88</td>\n",
       "      <td>1</td>\n",
       "      <td>0</td>\n",
       "      <td>0</td>\n",
       "      <td>0</td>\n",
       "    </tr>\n",
       "    <tr>\n",
       "      <td>1</td>\n",
       "      <td>41</td>\n",
       "      <td>1.0</td>\n",
       "      <td>83807.86</td>\n",
       "      <td>1</td>\n",
       "      <td>0</td>\n",
       "      <td>1</td>\n",
       "      <td>112542.58</td>\n",
       "      <td>0</td>\n",
       "      <td>0</td>\n",
       "      <td>1</td>\n",
       "      <td>0</td>\n",
       "    </tr>\n",
       "    <tr>\n",
       "      <td>2</td>\n",
       "      <td>42</td>\n",
       "      <td>8.0</td>\n",
       "      <td>159660.80</td>\n",
       "      <td>3</td>\n",
       "      <td>1</td>\n",
       "      <td>0</td>\n",
       "      <td>113931.57</td>\n",
       "      <td>1</td>\n",
       "      <td>0</td>\n",
       "      <td>0</td>\n",
       "      <td>0</td>\n",
       "    </tr>\n",
       "    <tr>\n",
       "      <td>3</td>\n",
       "      <td>39</td>\n",
       "      <td>1.0</td>\n",
       "      <td>0.00</td>\n",
       "      <td>2</td>\n",
       "      <td>0</td>\n",
       "      <td>0</td>\n",
       "      <td>93826.63</td>\n",
       "      <td>0</td>\n",
       "      <td>0</td>\n",
       "      <td>0</td>\n",
       "      <td>0</td>\n",
       "    </tr>\n",
       "    <tr>\n",
       "      <td>4</td>\n",
       "      <td>43</td>\n",
       "      <td>2.0</td>\n",
       "      <td>125510.82</td>\n",
       "      <td>1</td>\n",
       "      <td>1</td>\n",
       "      <td>1</td>\n",
       "      <td>79084.10</td>\n",
       "      <td>0</td>\n",
       "      <td>0</td>\n",
       "      <td>1</td>\n",
       "      <td>0</td>\n",
       "    </tr>\n",
       "  </tbody>\n",
       "</table>\n",
       "</div>"
      ],
      "text/plain": [
       "   Age  Tenure    Balance  NumOfProducts  HasCrCard  IsActiveMember  \\\n",
       "0   42     2.0       0.00              1          1               1   \n",
       "1   41     1.0   83807.86              1          0               1   \n",
       "2   42     8.0  159660.80              3          1               0   \n",
       "3   39     1.0       0.00              2          0               0   \n",
       "4   43     2.0  125510.82              1          1               1   \n",
       "\n",
       "   EstimatedSalary  Exited  Geography_Germany  Geography_Spain  Gender_Male  \n",
       "0        101348.88       1                  0                0            0  \n",
       "1        112542.58       0                  0                1            0  \n",
       "2        113931.57       1                  0                0            0  \n",
       "3         93826.63       0                  0                0            0  \n",
       "4         79084.10       0                  0                1            0  "
      ]
     },
     "execution_count": 16,
     "metadata": {},
     "output_type": "execute_result"
    }
   ],
   "source": [
    "data_dummies = pd.get_dummies(data_prepared, drop_first=True)\n",
    "data_dummies.head()"
   ]
  },
  {
   "cell_type": "markdown",
   "metadata": {},
   "source": [
    "After we need to lead to a single scale over columns."
   ]
  },
  {
   "cell_type": "code",
   "execution_count": 19,
   "metadata": {},
   "outputs": [
    {
     "data": {
      "text/html": [
       "<div>\n",
       "<style scoped>\n",
       "    .dataframe tbody tr th:only-of-type {\n",
       "        vertical-align: middle;\n",
       "    }\n",
       "\n",
       "    .dataframe tbody tr th {\n",
       "        vertical-align: top;\n",
       "    }\n",
       "\n",
       "    .dataframe thead th {\n",
       "        text-align: right;\n",
       "    }\n",
       "</style>\n",
       "<table border=\"1\" class=\"dataframe\">\n",
       "  <thead>\n",
       "    <tr style=\"text-align: right;\">\n",
       "      <th></th>\n",
       "      <th>Age</th>\n",
       "      <th>Tenure</th>\n",
       "      <th>Balance</th>\n",
       "      <th>NumOfProducts</th>\n",
       "      <th>HasCrCard</th>\n",
       "      <th>IsActiveMember</th>\n",
       "      <th>EstimatedSalary</th>\n",
       "      <th>Exited</th>\n",
       "      <th>Geography_Germany</th>\n",
       "      <th>Geography_Spain</th>\n",
       "      <th>Gender_Male</th>\n",
       "    </tr>\n",
       "  </thead>\n",
       "  <tbody>\n",
       "    <tr>\n",
       "      <td>0</td>\n",
       "      <td>0.293517</td>\n",
       "      <td>2.0</td>\n",
       "      <td>-1.225848</td>\n",
       "      <td>1</td>\n",
       "      <td>1</td>\n",
       "      <td>1</td>\n",
       "      <td>0.021886</td>\n",
       "      <td>1</td>\n",
       "      <td>0</td>\n",
       "      <td>0</td>\n",
       "      <td>0</td>\n",
       "    </tr>\n",
       "    <tr>\n",
       "      <td>1</td>\n",
       "      <td>0.198164</td>\n",
       "      <td>1.0</td>\n",
       "      <td>0.117350</td>\n",
       "      <td>1</td>\n",
       "      <td>0</td>\n",
       "      <td>1</td>\n",
       "      <td>0.216534</td>\n",
       "      <td>0</td>\n",
       "      <td>0</td>\n",
       "      <td>1</td>\n",
       "      <td>0</td>\n",
       "    </tr>\n",
       "    <tr>\n",
       "      <td>2</td>\n",
       "      <td>0.293517</td>\n",
       "      <td>8.0</td>\n",
       "      <td>1.333053</td>\n",
       "      <td>3</td>\n",
       "      <td>1</td>\n",
       "      <td>0</td>\n",
       "      <td>0.240687</td>\n",
       "      <td>1</td>\n",
       "      <td>0</td>\n",
       "      <td>0</td>\n",
       "      <td>0</td>\n",
       "    </tr>\n",
       "    <tr>\n",
       "      <td>3</td>\n",
       "      <td>0.007457</td>\n",
       "      <td>1.0</td>\n",
       "      <td>-1.225848</td>\n",
       "      <td>2</td>\n",
       "      <td>0</td>\n",
       "      <td>0</td>\n",
       "      <td>-0.108918</td>\n",
       "      <td>0</td>\n",
       "      <td>0</td>\n",
       "      <td>0</td>\n",
       "      <td>0</td>\n",
       "    </tr>\n",
       "    <tr>\n",
       "      <td>4</td>\n",
       "      <td>0.388871</td>\n",
       "      <td>2.0</td>\n",
       "      <td>0.785728</td>\n",
       "      <td>1</td>\n",
       "      <td>1</td>\n",
       "      <td>1</td>\n",
       "      <td>-0.365276</td>\n",
       "      <td>0</td>\n",
       "      <td>0</td>\n",
       "      <td>1</td>\n",
       "      <td>0</td>\n",
       "    </tr>\n",
       "    <tr>\n",
       "      <td>...</td>\n",
       "      <td>...</td>\n",
       "      <td>...</td>\n",
       "      <td>...</td>\n",
       "      <td>...</td>\n",
       "      <td>...</td>\n",
       "      <td>...</td>\n",
       "      <td>...</td>\n",
       "      <td>...</td>\n",
       "      <td>...</td>\n",
       "      <td>...</td>\n",
       "      <td>...</td>\n",
       "    </tr>\n",
       "    <tr>\n",
       "      <td>9995</td>\n",
       "      <td>0.007457</td>\n",
       "      <td>5.0</td>\n",
       "      <td>-1.225848</td>\n",
       "      <td>2</td>\n",
       "      <td>1</td>\n",
       "      <td>0</td>\n",
       "      <td>-0.066419</td>\n",
       "      <td>0</td>\n",
       "      <td>0</td>\n",
       "      <td>0</td>\n",
       "      <td>1</td>\n",
       "    </tr>\n",
       "    <tr>\n",
       "      <td>9996</td>\n",
       "      <td>-0.373958</td>\n",
       "      <td>10.0</td>\n",
       "      <td>-0.306379</td>\n",
       "      <td>1</td>\n",
       "      <td>1</td>\n",
       "      <td>1</td>\n",
       "      <td>0.027988</td>\n",
       "      <td>0</td>\n",
       "      <td>0</td>\n",
       "      <td>0</td>\n",
       "      <td>1</td>\n",
       "    </tr>\n",
       "    <tr>\n",
       "      <td>9997</td>\n",
       "      <td>-0.278604</td>\n",
       "      <td>7.0</td>\n",
       "      <td>-1.225848</td>\n",
       "      <td>1</td>\n",
       "      <td>0</td>\n",
       "      <td>1</td>\n",
       "      <td>-1.008643</td>\n",
       "      <td>1</td>\n",
       "      <td>0</td>\n",
       "      <td>0</td>\n",
       "      <td>0</td>\n",
       "    </tr>\n",
       "    <tr>\n",
       "      <td>9998</td>\n",
       "      <td>0.293517</td>\n",
       "      <td>3.0</td>\n",
       "      <td>-0.022608</td>\n",
       "      <td>2</td>\n",
       "      <td>1</td>\n",
       "      <td>0</td>\n",
       "      <td>-0.125231</td>\n",
       "      <td>1</td>\n",
       "      <td>1</td>\n",
       "      <td>0</td>\n",
       "      <td>1</td>\n",
       "    </tr>\n",
       "    <tr>\n",
       "      <td>9999</td>\n",
       "      <td>-1.041433</td>\n",
       "      <td>5.0</td>\n",
       "      <td>0.859965</td>\n",
       "      <td>1</td>\n",
       "      <td>1</td>\n",
       "      <td>0</td>\n",
       "      <td>-1.076370</td>\n",
       "      <td>0</td>\n",
       "      <td>0</td>\n",
       "      <td>0</td>\n",
       "      <td>0</td>\n",
       "    </tr>\n",
       "  </tbody>\n",
       "</table>\n",
       "<p>10000 rows × 11 columns</p>\n",
       "</div>"
      ],
      "text/plain": [
       "           Age  Tenure   Balance  NumOfProducts  HasCrCard  IsActiveMember  \\\n",
       "0     0.293517     2.0 -1.225848              1          1               1   \n",
       "1     0.198164     1.0  0.117350              1          0               1   \n",
       "2     0.293517     8.0  1.333053              3          1               0   \n",
       "3     0.007457     1.0 -1.225848              2          0               0   \n",
       "4     0.388871     2.0  0.785728              1          1               1   \n",
       "...        ...     ...       ...            ...        ...             ...   \n",
       "9995  0.007457     5.0 -1.225848              2          1               0   \n",
       "9996 -0.373958    10.0 -0.306379              1          1               1   \n",
       "9997 -0.278604     7.0 -1.225848              1          0               1   \n",
       "9998  0.293517     3.0 -0.022608              2          1               0   \n",
       "9999 -1.041433     5.0  0.859965              1          1               0   \n",
       "\n",
       "      EstimatedSalary  Exited  Geography_Germany  Geography_Spain  Gender_Male  \n",
       "0            0.021886       1                  0                0            0  \n",
       "1            0.216534       0                  0                1            0  \n",
       "2            0.240687       1                  0                0            0  \n",
       "3           -0.108918       0                  0                0            0  \n",
       "4           -0.365276       0                  0                1            0  \n",
       "...               ...     ...                ...              ...          ...  \n",
       "9995        -0.066419       0                  0                0            1  \n",
       "9996         0.027988       0                  0                0            1  \n",
       "9997        -1.008643       1                  0                0            0  \n",
       "9998        -0.125231       1                  1                0            1  \n",
       "9999        -1.076370       0                  0                0            0  \n",
       "\n",
       "[10000 rows x 11 columns]"
      ]
     },
     "execution_count": 19,
     "metadata": {},
     "output_type": "execute_result"
    }
   ],
   "source": [
    "numeric = ['Balance', 'Age', 'EstimatedSalary']\n",
    "\n",
    "scaler = StandardScaler()\n",
    "scaler.fit(data_dummies[numeric])\n",
    "\n",
    "data_scalered = data_dummies.copy()\n",
    "data_scalered[numeric] = scaler.transform(data_dummies[numeric])\n",
    "data_scalered\n"
   ]
  },
  {
   "cell_type": "markdown",
   "metadata": {},
   "source": [
    "Now it is time to fit our model. We share our data for 3 sample: valid, train, test."
   ]
  },
  {
   "cell_type": "code",
   "execution_count": 20,
   "metadata": {},
   "outputs": [],
   "source": [
    "features = data_scalered.drop('Exited', axis=1)\n",
    "target = data_scalered['Exited']"
   ]
  },
  {
   "cell_type": "code",
   "execution_count": 21,
   "metadata": {},
   "outputs": [],
   "source": [
    "features_train, features_valid_test, target_train, target_valid_test = train_test_split(features, target, test_size=0.4, random_state=12345)\n",
    "features_valid, features_test, target_valid, target_test = train_test_split(features_valid_test, target_valid_test, test_size=0.5, random_state=12345)\n"
   ]
  },
  {
   "cell_type": "code",
   "execution_count": 22,
   "metadata": {},
   "outputs": [
    {
     "name": "stdout",
     "output_type": "stream",
     "text": [
      "R2 - 0.8045\n"
     ]
    }
   ],
   "source": [
    "model = LogisticRegression(random_state=12345, solver='liblinear')\n",
    "model.fit(features_train, target_train)\n",
    "predicted_valid = model.predict(features_valid)\n",
    "\n",
    "print('R2 - {}'.format((accuracy_score(predicted_valid, target_valid))))\n"
   ]
  },
  {
   "cell_type": "markdown",
   "metadata": {},
   "source": [
    "Our model show good result, but need to check it for sanity. If we count target column, we will see that R2 show percent of '0' negative observation of all observations '0' + '1'. \n",
    "\n",
    "Let's create column with only zeros and check R2 for our constant model."
   ]
  },
  {
   "cell_type": "code",
   "execution_count": 23,
   "metadata": {},
   "outputs": [
    {
     "data": {
      "text/plain": [
       "0    7963\n",
       "1    2037\n",
       "Name: Exited, dtype: int64"
      ]
     },
     "execution_count": 23,
     "metadata": {},
     "output_type": "execute_result"
    }
   ],
   "source": [
    "data_prepared['Exited'].value_counts().sort_index()"
   ]
  },
  {
   "cell_type": "code",
   "execution_count": 24,
   "metadata": {},
   "outputs": [
    {
     "name": "stdout",
     "output_type": "stream",
     "text": [
      "0.791\n"
     ]
    }
   ],
   "source": [
    "target_pred_constant = pd.Series([0 for x in range(target_valid.shape[0])])\n",
    "\n",
    "print(accuracy_score(target_valid, target_pred_constant))"
   ]
  },
  {
   "cell_type": "markdown",
   "metadata": {},
   "source": [
    "The same result. It is mean that we can use model where we predict only zeroes :)\n",
    "\n",
    "We need use different metric here. We will take: $$F1 = \\frac{2*RECALL*PRECISION}{RECALL+PRECISION}$$<br> $$RECALL = \\frac{TP}{TP+FN}$$ <br> $$PRECISION=\\frac{TP}{TP+FP}$$ TP, FP and FN - we can take from table below."
   ]
  },
  {
   "cell_type": "code",
   "execution_count": 25,
   "metadata": {},
   "outputs": [
    {
     "data": {
      "text/plain": [
       "array([[1513,   69],\n",
       "       [ 322,   96]])"
      ]
     },
     "execution_count": 25,
     "metadata": {},
     "output_type": "execute_result"
    }
   ],
   "source": [
    "confusion_matrix(target_valid, predicted_valid)"
   ]
  },
  {
   "cell_type": "code",
   "execution_count": 26,
   "metadata": {},
   "outputs": [
    {
     "name": "stdout",
     "output_type": "stream",
     "text": [
      "F1 - 0.3293310463121784\n"
     ]
    }
   ],
   "source": [
    "print('F1 - {}'.format((f1_score(predicted_valid, target_valid))))"
   ]
  },
  {
   "cell_type": "markdown",
   "metadata": {},
   "source": [
    "Now new metric tell us that our model not good predict the class. OK, now let's play with F1 score, we will change Threshold value and try to find max F1."
   ]
  },
  {
   "cell_type": "code",
   "execution_count": 27,
   "metadata": {},
   "outputs": [],
   "source": [
    "probabilities_valid = model.predict_proba(features_valid)\n",
    "probabilities_one_valid = probabilities_valid[:, 1]"
   ]
  },
  {
   "cell_type": "code",
   "execution_count": 28,
   "metadata": {},
   "outputs": [
    {
     "name": "stdout",
     "output_type": "stream",
     "text": [
      "Threshold = 0.00 | Precision = 0.209, Recall = 1.000 | F1 - 0.346\n",
      "Threshold = 0.05 | Precision = 0.234, Recall = 0.978 | F1 - 0.378\n",
      "Threshold = 0.10 | Precision = 0.275, Recall = 0.892 | F1 - 0.421\n",
      "Threshold = 0.15 | Precision = 0.328, Recall = 0.792 | F1 - 0.464\n",
      "Threshold = 0.20 | Precision = 0.374, Recall = 0.682 | F1 - 0.483\n",
      "Threshold = 0.25 | Precision = 0.419, Recall = 0.591 | F1 - 0.491\n",
      "Threshold = 0.30 | Precision = 0.456, Recall = 0.510 | F1 - 0.481\n",
      "Threshold = 0.35 | Precision = 0.487, Recall = 0.416 | F1 - 0.449\n",
      "Threshold = 0.40 | Precision = 0.505, Recall = 0.337 | F1 - 0.405\n",
      "Threshold = 0.45 | Precision = 0.547, Recall = 0.292 | F1 - 0.381\n",
      "Threshold = 0.50 | Precision = 0.582, Recall = 0.230 | F1 - 0.329\n",
      "Threshold = 0.55 | Precision = 0.621, Recall = 0.172 | F1 - 0.270\n",
      "Threshold = 0.60 | Precision = 0.671, Recall = 0.132 | F1 - 0.220\n",
      "Threshold = 0.65 | Precision = 0.660, Recall = 0.084 | F1 - 0.149\n",
      "Threshold = 0.70 | Precision = 0.710, Recall = 0.053 | F1 - 0.098\n",
      "Threshold = 0.75 | Precision = 0.650, Recall = 0.031 | F1 - 0.059\n",
      "Threshold = 0.80 | Precision = 0.533, Recall = 0.019 | F1 - 0.037\n",
      "Threshold = 0.85 | Precision = 0.500, Recall = 0.005 | F1 - 0.009\n"
     ]
    }
   ],
   "source": [
    "for threshold in np.arange(0, 0.9, 0.05):\n",
    "    predicted_valid = probabilities_one_valid > threshold\n",
    "    precision = precision_score(target_valid, predicted_valid)\n",
    "    recall = recall_score(target_valid, predicted_valid)\n",
    "    f_1 = f1_score(predicted_valid, target_valid)\n",
    "\n",
    "    print(\"Threshold = {:.2f} | Precision = {:.3f}, Recall = {:.3f} | F1 - {:.3f}\".format(\n",
    "        threshold, precision, recall, f_1))"
   ]
  },
  {
   "cell_type": "markdown",
   "metadata": {},
   "source": [
    "We took max F1 when Threshold is 0.25. Below we show the graph and red point, that show best attitude between Recall and Precision for predict values."
   ]
  },
  {
   "cell_type": "code",
   "execution_count": 29,
   "metadata": {},
   "outputs": [
    {
     "data": {
      "image/png": "[encoded data removed]",
      "text/plain": [
       "<Figure size 432x432 with 1 Axes>"
      ]
     },
     "metadata": {
      "needs_background": "light"
     },
     "output_type": "display_data"
    }
   ],
   "source": [
    "precision, recall, thresholds = precision_recall_curve(target_valid, probabilities_valid[:, 1])\n",
    "\n",
    "plt.figure(figsize=(6, 6))\n",
    "plt.plot(0.598, 0.424, 'ro', label='Threshold=0.25')\n",
    "plt.step(recall, precision, where='post')\n",
    "plt.xlabel('Recall')\n",
    "plt.ylabel('Precision')\n",
    "plt.ylim([0.0, 1.05])\n",
    "plt.xlim([0.0, 1.0])\n",
    "plt.title('Precision-Recall Curve')\n",
    "plt.legend()\n",
    "plt.show()"
   ]
  },
  {
   "cell_type": "markdown",
   "metadata": {},
   "source": [
    "For a model that always answers randomly, the ROC curve is a diagonal line going from the lower left to the upper right. The higher the curve, the greater the TPR value and the better the model's quality. \n",
    "\n",
    "To find how much our model differs from the random model, let's calculate the AUC-ROC value (Area Under Curve ROC) This is a new evaluation metric with values in the range from 0 to 1. The AUC-ROC value for a random model is 0.5."
   ]
  },
  {
   "cell_type": "code",
   "execution_count": 30,
   "metadata": {},
   "outputs": [],
   "source": [
    "def plotROC(target_valid, probabilities_one_valid):\n",
    "    fpr, tpr, thresholds = roc_curve(target_valid, probabilities_one_valid)\n",
    "\n",
    "    plt.figure()\n",
    "\n",
    "    plt.plot(fpr, tpr)\n",
    "\n",
    "    plt.plot([0, 1], [0, 1], linestyle='--')\n",
    "\n",
    "    plt.xlim(0,1)\n",
    "    plt.ylim(0,1)\n",
    "\n",
    "    plt.xlabel('False Positive Rate')\n",
    "    plt.ylabel('True Positive Rate')\n",
    "\n",
    "    plt.title('ROC curve')\n",
    "\n",
    "    plt.show()\n",
    "    \n",
    "    auc_roc = roc_auc_score(target_valid, probabilities_one_valid)\n",
    "\n",
    "    print('Area under ROC curve:', auc_roc)"
   ]
  },
  {
   "cell_type": "code",
   "execution_count": 31,
   "metadata": {},
   "outputs": [
    {
     "data": {
      "image/png": "[encoded data removed]",
      "text/plain": [
       "<Figure size 432x288 with 1 Axes>"
      ]
     },
     "metadata": {
      "needs_background": "light"
     },
     "output_type": "display_data"
    },
    {
     "name": "stdout",
     "output_type": "stream",
     "text": [
      "Area under ROC curve: 0.7584457926796073\n"
     ]
    }
   ],
   "source": [
    "plotROC(target_valid, probabilities_one_valid)"
   ]
  },
  {
   "cell_type": "markdown",
   "metadata": {},
   "source": [
    "### Upsampling\n",
    "\n",
    "OK, now we will try to get more accuracy for our model. When we fit model, we use train sample with 4:1 relation between negative and positive. Because of with our model predict worse then if relation will be 1:1. \n",
    "\n",
    "We will use upsample and downsample to get relation between negative and positive equal 1:1."
   ]
  },
  {
   "cell_type": "code",
   "execution_count": 32,
   "metadata": {},
   "outputs": [],
   "source": [
    "def upsample(features, target, repeat):\n",
    "    features_zeros = features[target == 0]\n",
    "    features_ones = features[target == 1]\n",
    "    target_zeros = target[target == 0]\n",
    "    target_ones = target[target == 1]\n",
    "\n",
    "    features_upsampled = pd.concat([features_zeros] + [features_ones] * repeat)\n",
    "    target_upsampled = pd.concat([target_zeros] + [target_ones] * repeat)\n",
    "    \n",
    "    features_upsampled, target_upsampled = shuffle(\n",
    "        features_upsampled, target_upsampled, random_state=12345)\n",
    "    \n",
    "    return features_upsampled, target_upsampled\n",
    "    "
   ]
  },
  {
   "cell_type": "code",
   "execution_count": 33,
   "metadata": {},
   "outputs": [],
   "source": [
    "features_upsampled, target_upsampled = upsample(features_train, target_train, 4)"
   ]
  },
  {
   "cell_type": "code",
   "execution_count": 34,
   "metadata": {},
   "outputs": [
    {
     "name": "stdout",
     "output_type": "stream",
     "text": [
      "R2 - 0.705\n"
     ]
    }
   ],
   "source": [
    "model = LogisticRegression(random_state=12345, solver='liblinear')\n",
    "model.fit(features_upsampled, target_upsampled)\n",
    "predicted_valid = model.predict(features_valid)\n",
    "print('R2 - {}'.format((accuracy_score(predicted_valid, target_valid))))\n"
   ]
  },
  {
   "cell_type": "code",
   "execution_count": 35,
   "metadata": {},
   "outputs": [
    {
     "name": "stdout",
     "output_type": "stream",
     "text": [
      "F1 - 0.49399656946826753\n"
     ]
    }
   ],
   "source": [
    "print('F1 - {}'.format((f1_score(predicted_valid, target_valid))))"
   ]
  },
  {
   "cell_type": "code",
   "execution_count": 36,
   "metadata": {},
   "outputs": [],
   "source": [
    "probabilities_valid = model.predict_proba(features_valid)\n",
    "probabilities_one_valid = probabilities_valid[:, 1]\n"
   ]
  },
  {
   "cell_type": "code",
   "execution_count": 37,
   "metadata": {},
   "outputs": [
    {
     "name": "stdout",
     "output_type": "stream",
     "text": [
      "Threshold = 0.00 | Precision = 0.209, Recall = 1.000 | F1 - 0.346\n",
      "Threshold = 0.05 | Precision = 0.209, Recall = 1.000 | F1 - 0.346\n",
      "Threshold = 0.10 | Precision = 0.215, Recall = 1.000 | F1 - 0.354\n",
      "Threshold = 0.15 | Precision = 0.228, Recall = 0.988 | F1 - 0.371\n",
      "Threshold = 0.20 | Precision = 0.240, Recall = 0.967 | F1 - 0.385\n",
      "Threshold = 0.25 | Precision = 0.258, Recall = 0.933 | F1 - 0.405\n",
      "Threshold = 0.30 | Precision = 0.278, Recall = 0.907 | F1 - 0.426\n",
      "Threshold = 0.35 | Precision = 0.302, Recall = 0.868 | F1 - 0.448\n",
      "Threshold = 0.40 | Precision = 0.328, Recall = 0.816 | F1 - 0.468\n",
      "Threshold = 0.45 | Precision = 0.355, Recall = 0.749 | F1 - 0.482\n",
      "Threshold = 0.50 | Precision = 0.385, Recall = 0.689 | F1 - 0.494\n",
      "Threshold = 0.55 | Precision = 0.409, Recall = 0.617 | F1 - 0.492\n",
      "Threshold = 0.60 | Precision = 0.446, Recall = 0.557 | F1 - 0.496\n",
      "Threshold = 0.65 | Precision = 0.480, Recall = 0.481 | F1 - 0.480\n",
      "Threshold = 0.70 | Precision = 0.489, Recall = 0.376 | F1 - 0.425\n",
      "Threshold = 0.75 | Precision = 0.504, Recall = 0.301 | F1 - 0.377\n",
      "Threshold = 0.80 | Precision = 0.569, Recall = 0.237 | F1 - 0.334\n",
      "Threshold = 0.85 | Precision = 0.621, Recall = 0.141 | F1 - 0.230\n",
      "Threshold = 0.90 | Precision = 0.595, Recall = 0.060 | F1 - 0.109\n",
      "Threshold = 0.95 | Precision = 0.300, Recall = 0.007 | F1 - 0.014\n"
     ]
    }
   ],
   "source": [
    "for threshold in np.arange(0, 1, 0.05):\n",
    "    predicted_valid = probabilities_one_valid > threshold\n",
    "    precision = precision_score(target_valid, predicted_valid)\n",
    "    recall = recall_score(target_valid, predicted_valid)\n",
    "    f_1 = f1_score(predicted_valid, target_valid)\n",
    "\n",
    "    print(\"Threshold = {:.2f} | Precision = {:.3f}, Recall = {:.3f} | F1 - {:.3f}\".format(\n",
    "        threshold, precision, recall, f_1))"
   ]
  },
  {
   "cell_type": "code",
   "execution_count": 38,
   "metadata": {},
   "outputs": [
    {
     "data": {
      "image/png": "[encoded data removed]",
      "text/plain": [
       "<Figure size 432x288 with 1 Axes>"
      ]
     },
     "metadata": {
      "needs_background": "light"
     },
     "output_type": "display_data"
    },
    {
     "name": "stdout",
     "output_type": "stream",
     "text": [
      "Area under ROC curve: 0.7634119490197737\n"
     ]
    }
   ],
   "source": [
    "plotROC(target_valid, probabilities_one_valid)"
   ]
  },
  {
   "cell_type": "markdown",
   "metadata": {},
   "source": [
    "### Downsampling"
   ]
  },
  {
   "cell_type": "code",
   "execution_count": 39,
   "metadata": {},
   "outputs": [],
   "source": [
    "def downsample(features, target, fraction):\n",
    "    features_zeros = features[target == 0]\n",
    "    features_ones = features[target == 1]\n",
    "    target_zeros = target[target == 0]\n",
    "    target_ones = target[target == 1]\n",
    "\n",
    "    features_downsampled = pd.concat(\n",
    "        [features_zeros.sample(frac=fraction, random_state=12345)] + [features_ones])\n",
    "    target_downsampled = pd.concat(\n",
    "        [target_zeros.sample(frac=fraction, random_state=12345)] + [target_ones])\n",
    "    \n",
    "    features_downsampled, target_downsampled = shuffle(\n",
    "        features_downsampled, target_downsampled, random_state=12345)\n",
    "    \n",
    "    return features_downsampled, target_downsampled"
   ]
  },
  {
   "cell_type": "code",
   "execution_count": 40,
   "metadata": {},
   "outputs": [],
   "source": [
    "features_downsampled, target_downsampled = downsample(features_train, target_train, 0.25)"
   ]
  },
  {
   "cell_type": "code",
   "execution_count": 41,
   "metadata": {},
   "outputs": [
    {
     "name": "stdout",
     "output_type": "stream",
     "text": [
      "R2 - 0.7025\n"
     ]
    }
   ],
   "source": [
    "model = LogisticRegression(random_state=12345, solver='liblinear')\n",
    "model.fit(features_downsampled, target_downsampled)\n",
    "predicted_valid = model.predict(features_valid)\n",
    "print('R2 - {}'.format((accuracy_score(predicted_valid, target_valid))))\n"
   ]
  },
  {
   "cell_type": "code",
   "execution_count": 42,
   "metadata": {},
   "outputs": [
    {
     "name": "stdout",
     "output_type": "stream",
     "text": [
      "F1 - 0.48751076658053405\n"
     ]
    }
   ],
   "source": [
    "print('F1 - {}'.format((f1_score(predicted_valid, target_valid))))"
   ]
  },
  {
   "cell_type": "code",
   "execution_count": 43,
   "metadata": {},
   "outputs": [],
   "source": [
    "probabilities_valid = model.predict_proba(features_valid)\n",
    "probabilities_one_valid = probabilities_valid[:, 1]"
   ]
  },
  {
   "cell_type": "code",
   "execution_count": 44,
   "metadata": {},
   "outputs": [
    {
     "name": "stdout",
     "output_type": "stream",
     "text": [
      "Threshold = 0.00 | Precision = 0.209, Recall = 1.000 | F1 - 0.346\n",
      "Threshold = 0.05 | Precision = 0.209, Recall = 1.000 | F1 - 0.346\n",
      "Threshold = 0.10 | Precision = 0.216, Recall = 1.000 | F1 - 0.355\n",
      "Threshold = 0.15 | Precision = 0.228, Recall = 0.988 | F1 - 0.370\n",
      "Threshold = 0.20 | Precision = 0.243, Recall = 0.967 | F1 - 0.388\n",
      "Threshold = 0.25 | Precision = 0.260, Recall = 0.931 | F1 - 0.406\n",
      "Threshold = 0.30 | Precision = 0.281, Recall = 0.909 | F1 - 0.429\n",
      "Threshold = 0.35 | Precision = 0.302, Recall = 0.868 | F1 - 0.449\n",
      "Threshold = 0.40 | Precision = 0.330, Recall = 0.816 | F1 - 0.470\n",
      "Threshold = 0.45 | Precision = 0.357, Recall = 0.746 | F1 - 0.483\n",
      "Threshold = 0.50 | Precision = 0.381, Recall = 0.677 | F1 - 0.488\n",
      "Threshold = 0.55 | Precision = 0.413, Recall = 0.622 | F1 - 0.497\n",
      "Threshold = 0.60 | Precision = 0.442, Recall = 0.560 | F1 - 0.494\n",
      "Threshold = 0.65 | Precision = 0.473, Recall = 0.478 | F1 - 0.476\n",
      "Threshold = 0.70 | Precision = 0.487, Recall = 0.392 | F1 - 0.434\n",
      "Threshold = 0.75 | Precision = 0.496, Recall = 0.316 | F1 - 0.386\n",
      "Threshold = 0.80 | Precision = 0.532, Recall = 0.242 | F1 - 0.332\n",
      "Threshold = 0.85 | Precision = 0.602, Recall = 0.148 | F1 - 0.238\n",
      "Threshold = 0.90 | Precision = 0.587, Recall = 0.065 | F1 - 0.116\n",
      "Threshold = 0.95 | Precision = 0.462, Recall = 0.014 | F1 - 0.028\n"
     ]
    }
   ],
   "source": [
    "for threshold in np.arange(0, 1, 0.05):\n",
    "    predicted_valid = probabilities_one_valid > threshold\n",
    "    precision = precision_score(target_valid, predicted_valid)\n",
    "    recall = recall_score(target_valid, predicted_valid)\n",
    "    f_1 = f1_score(predicted_valid, target_valid)\n",
    "\n",
    "    print(\"Threshold = {:.2f} | Precision = {:.3f}, Recall = {:.3f} | F1 - {:.3f}\".format(\n",
    "        threshold, precision, recall, f_1))"
   ]
  },
  {
   "cell_type": "code",
   "execution_count": 45,
   "metadata": {},
   "outputs": [
    {
     "data": {
      "image/png": "[encoded data removed]",
      "text/plain": [
       "<Figure size 432x288 with 1 Axes>"
      ]
     },
     "metadata": {
      "needs_background": "light"
     },
     "output_type": "display_data"
    },
    {
     "name": "stdout",
     "output_type": "stream",
     "text": [
      "Area under ROC curve: 0.7616925459263607\n"
     ]
    }
   ],
   "source": [
    "plotROC(target_valid, probabilities_one_valid)"
   ]
  },
  {
   "cell_type": "markdown",
   "metadata": {},
   "source": [
    "Our accuracy is not best, may be. We need try to use another model, Because of low quality and accuracy."
   ]
  },
  {
   "cell_type": "markdown",
   "metadata": {},
   "source": [
    "## DesigionTrees"
   ]
  },
  {
   "cell_type": "code",
   "execution_count": 46,
   "metadata": {},
   "outputs": [
    {
     "data": {
      "text/html": [
       "<div>\n",
       "<style scoped>\n",
       "    .dataframe tbody tr th:only-of-type {\n",
       "        vertical-align: middle;\n",
       "    }\n",
       "\n",
       "    .dataframe tbody tr th {\n",
       "        vertical-align: top;\n",
       "    }\n",
       "\n",
       "    .dataframe thead th {\n",
       "        text-align: right;\n",
       "    }\n",
       "</style>\n",
       "<table border=\"1\" class=\"dataframe\">\n",
       "  <thead>\n",
       "    <tr style=\"text-align: right;\">\n",
       "      <th></th>\n",
       "      <th>Geography</th>\n",
       "      <th>Gender</th>\n",
       "      <th>Age</th>\n",
       "      <th>Tenure</th>\n",
       "      <th>Balance</th>\n",
       "      <th>NumOfProducts</th>\n",
       "      <th>HasCrCard</th>\n",
       "      <th>IsActiveMember</th>\n",
       "      <th>EstimatedSalary</th>\n",
       "      <th>Exited</th>\n",
       "    </tr>\n",
       "  </thead>\n",
       "  <tbody>\n",
       "    <tr>\n",
       "      <td>0</td>\n",
       "      <td>France</td>\n",
       "      <td>Female</td>\n",
       "      <td>42</td>\n",
       "      <td>2.0</td>\n",
       "      <td>0.00</td>\n",
       "      <td>1</td>\n",
       "      <td>1</td>\n",
       "      <td>1</td>\n",
       "      <td>101348.88</td>\n",
       "      <td>1</td>\n",
       "    </tr>\n",
       "    <tr>\n",
       "      <td>1</td>\n",
       "      <td>Spain</td>\n",
       "      <td>Female</td>\n",
       "      <td>41</td>\n",
       "      <td>1.0</td>\n",
       "      <td>83807.86</td>\n",
       "      <td>1</td>\n",
       "      <td>0</td>\n",
       "      <td>1</td>\n",
       "      <td>112542.58</td>\n",
       "      <td>0</td>\n",
       "    </tr>\n",
       "    <tr>\n",
       "      <td>2</td>\n",
       "      <td>France</td>\n",
       "      <td>Female</td>\n",
       "      <td>42</td>\n",
       "      <td>8.0</td>\n",
       "      <td>159660.80</td>\n",
       "      <td>3</td>\n",
       "      <td>1</td>\n",
       "      <td>0</td>\n",
       "      <td>113931.57</td>\n",
       "      <td>1</td>\n",
       "    </tr>\n",
       "    <tr>\n",
       "      <td>3</td>\n",
       "      <td>France</td>\n",
       "      <td>Female</td>\n",
       "      <td>39</td>\n",
       "      <td>1.0</td>\n",
       "      <td>0.00</td>\n",
       "      <td>2</td>\n",
       "      <td>0</td>\n",
       "      <td>0</td>\n",
       "      <td>93826.63</td>\n",
       "      <td>0</td>\n",
       "    </tr>\n",
       "    <tr>\n",
       "      <td>4</td>\n",
       "      <td>Spain</td>\n",
       "      <td>Female</td>\n",
       "      <td>43</td>\n",
       "      <td>2.0</td>\n",
       "      <td>125510.82</td>\n",
       "      <td>1</td>\n",
       "      <td>1</td>\n",
       "      <td>1</td>\n",
       "      <td>79084.10</td>\n",
       "      <td>0</td>\n",
       "    </tr>\n",
       "  </tbody>\n",
       "</table>\n",
       "</div>"
      ],
      "text/plain": [
       "  Geography  Gender  Age  Tenure    Balance  NumOfProducts  HasCrCard  \\\n",
       "0    France  Female   42     2.0       0.00              1          1   \n",
       "1     Spain  Female   41     1.0   83807.86              1          0   \n",
       "2    France  Female   42     8.0  159660.80              3          1   \n",
       "3    France  Female   39     1.0       0.00              2          0   \n",
       "4     Spain  Female   43     2.0  125510.82              1          1   \n",
       "\n",
       "   IsActiveMember  EstimatedSalary  Exited  \n",
       "0               1        101348.88       1  \n",
       "1               1        112542.58       0  \n",
       "2               0        113931.57       1  \n",
       "3               0         93826.63       0  \n",
       "4               1         79084.10       0  "
      ]
     },
     "execution_count": 46,
     "metadata": {},
     "output_type": "execute_result"
    }
   ],
   "source": [
    "data_prepared.head()"
   ]
  },
  {
   "cell_type": "markdown",
   "metadata": {},
   "source": [
    "Here we use OrdenalEncoder instead Dummies because it is better work with Trees."
   ]
  },
  {
   "cell_type": "code",
   "execution_count": 47,
   "metadata": {},
   "outputs": [],
   "source": [
    "encoder = OrdinalEncoder()\n",
    "data_ordinal = pd.DataFrame(encoder.fit_transform(data_prepared),\n",
    "                            columns=data_prepared.columns)"
   ]
  },
  {
   "cell_type": "code",
   "execution_count": 48,
   "metadata": {},
   "outputs": [
    {
     "data": {
      "text/html": [
       "<div>\n",
       "<style scoped>\n",
       "    .dataframe tbody tr th:only-of-type {\n",
       "        vertical-align: middle;\n",
       "    }\n",
       "\n",
       "    .dataframe tbody tr th {\n",
       "        vertical-align: top;\n",
       "    }\n",
       "\n",
       "    .dataframe thead th {\n",
       "        text-align: right;\n",
       "    }\n",
       "</style>\n",
       "<table border=\"1\" class=\"dataframe\">\n",
       "  <thead>\n",
       "    <tr style=\"text-align: right;\">\n",
       "      <th></th>\n",
       "      <th>Geography</th>\n",
       "      <th>Gender</th>\n",
       "      <th>Age</th>\n",
       "      <th>Tenure</th>\n",
       "      <th>Balance</th>\n",
       "      <th>NumOfProducts</th>\n",
       "      <th>HasCrCard</th>\n",
       "      <th>IsActiveMember</th>\n",
       "      <th>EstimatedSalary</th>\n",
       "      <th>Exited</th>\n",
       "    </tr>\n",
       "  </thead>\n",
       "  <tbody>\n",
       "    <tr>\n",
       "      <td>0</td>\n",
       "      <td>0.0</td>\n",
       "      <td>0.0</td>\n",
       "      <td>24.0</td>\n",
       "      <td>2.0</td>\n",
       "      <td>0.0</td>\n",
       "      <td>0.0</td>\n",
       "      <td>1.0</td>\n",
       "      <td>1.0</td>\n",
       "      <td>5068.0</td>\n",
       "      <td>1.0</td>\n",
       "    </tr>\n",
       "    <tr>\n",
       "      <td>1</td>\n",
       "      <td>2.0</td>\n",
       "      <td>0.0</td>\n",
       "      <td>23.0</td>\n",
       "      <td>1.0</td>\n",
       "      <td>743.0</td>\n",
       "      <td>0.0</td>\n",
       "      <td>0.0</td>\n",
       "      <td>1.0</td>\n",
       "      <td>5639.0</td>\n",
       "      <td>0.0</td>\n",
       "    </tr>\n",
       "    <tr>\n",
       "      <td>2</td>\n",
       "      <td>0.0</td>\n",
       "      <td>0.0</td>\n",
       "      <td>24.0</td>\n",
       "      <td>8.0</td>\n",
       "      <td>5793.0</td>\n",
       "      <td>2.0</td>\n",
       "      <td>1.0</td>\n",
       "      <td>0.0</td>\n",
       "      <td>5707.0</td>\n",
       "      <td>1.0</td>\n",
       "    </tr>\n",
       "    <tr>\n",
       "      <td>3</td>\n",
       "      <td>0.0</td>\n",
       "      <td>0.0</td>\n",
       "      <td>21.0</td>\n",
       "      <td>1.0</td>\n",
       "      <td>0.0</td>\n",
       "      <td>1.0</td>\n",
       "      <td>0.0</td>\n",
       "      <td>0.0</td>\n",
       "      <td>4704.0</td>\n",
       "      <td>0.0</td>\n",
       "    </tr>\n",
       "    <tr>\n",
       "      <td>4</td>\n",
       "      <td>2.0</td>\n",
       "      <td>0.0</td>\n",
       "      <td>25.0</td>\n",
       "      <td>2.0</td>\n",
       "      <td>3696.0</td>\n",
       "      <td>0.0</td>\n",
       "      <td>1.0</td>\n",
       "      <td>1.0</td>\n",
       "      <td>3925.0</td>\n",
       "      <td>0.0</td>\n",
       "    </tr>\n",
       "  </tbody>\n",
       "</table>\n",
       "</div>"
      ],
      "text/plain": [
       "   Geography  Gender   Age  Tenure  Balance  NumOfProducts  HasCrCard  \\\n",
       "0        0.0     0.0  24.0     2.0      0.0            0.0        1.0   \n",
       "1        2.0     0.0  23.0     1.0    743.0            0.0        0.0   \n",
       "2        0.0     0.0  24.0     8.0   5793.0            2.0        1.0   \n",
       "3        0.0     0.0  21.0     1.0      0.0            1.0        0.0   \n",
       "4        2.0     0.0  25.0     2.0   3696.0            0.0        1.0   \n",
       "\n",
       "   IsActiveMember  EstimatedSalary  Exited  \n",
       "0             1.0           5068.0     1.0  \n",
       "1             1.0           5639.0     0.0  \n",
       "2             0.0           5707.0     1.0  \n",
       "3             0.0           4704.0     0.0  \n",
       "4             1.0           3925.0     0.0  "
      ]
     },
     "execution_count": 48,
     "metadata": {},
     "output_type": "execute_result"
    }
   ],
   "source": [
    "data_ordinal.head()"
   ]
  },
  {
   "cell_type": "code",
   "execution_count": 49,
   "metadata": {},
   "outputs": [
    {
     "data": {
      "text/html": [
       "<div>\n",
       "<style scoped>\n",
       "    .dataframe tbody tr th:only-of-type {\n",
       "        vertical-align: middle;\n",
       "    }\n",
       "\n",
       "    .dataframe tbody tr th {\n",
       "        vertical-align: top;\n",
       "    }\n",
       "\n",
       "    .dataframe thead th {\n",
       "        text-align: right;\n",
       "    }\n",
       "</style>\n",
       "<table border=\"1\" class=\"dataframe\">\n",
       "  <thead>\n",
       "    <tr style=\"text-align: right;\">\n",
       "      <th></th>\n",
       "      <th>Geography</th>\n",
       "      <th>Gender</th>\n",
       "      <th>Age</th>\n",
       "      <th>Tenure</th>\n",
       "      <th>Balance</th>\n",
       "      <th>NumOfProducts</th>\n",
       "      <th>HasCrCard</th>\n",
       "      <th>IsActiveMember</th>\n",
       "      <th>EstimatedSalary</th>\n",
       "      <th>Exited</th>\n",
       "    </tr>\n",
       "  </thead>\n",
       "  <tbody>\n",
       "    <tr>\n",
       "      <td>0</td>\n",
       "      <td>0.0</td>\n",
       "      <td>0.0</td>\n",
       "      <td>-1.422847</td>\n",
       "      <td>2.0</td>\n",
       "      <td>-1.225848</td>\n",
       "      <td>0.0</td>\n",
       "      <td>1.0</td>\n",
       "      <td>1.0</td>\n",
       "      <td>-1.652342</td>\n",
       "      <td>1.0</td>\n",
       "    </tr>\n",
       "    <tr>\n",
       "      <td>1</td>\n",
       "      <td>2.0</td>\n",
       "      <td>0.0</td>\n",
       "      <td>-1.518201</td>\n",
       "      <td>1.0</td>\n",
       "      <td>-1.213940</td>\n",
       "      <td>0.0</td>\n",
       "      <td>0.0</td>\n",
       "      <td>1.0</td>\n",
       "      <td>-1.642413</td>\n",
       "      <td>0.0</td>\n",
       "    </tr>\n",
       "    <tr>\n",
       "      <td>2</td>\n",
       "      <td>0.0</td>\n",
       "      <td>0.0</td>\n",
       "      <td>-1.422847</td>\n",
       "      <td>8.0</td>\n",
       "      <td>-1.133003</td>\n",
       "      <td>2.0</td>\n",
       "      <td>1.0</td>\n",
       "      <td>0.0</td>\n",
       "      <td>-1.641230</td>\n",
       "      <td>1.0</td>\n",
       "    </tr>\n",
       "    <tr>\n",
       "      <td>3</td>\n",
       "      <td>0.0</td>\n",
       "      <td>0.0</td>\n",
       "      <td>-1.708908</td>\n",
       "      <td>1.0</td>\n",
       "      <td>-1.225848</td>\n",
       "      <td>1.0</td>\n",
       "      <td>0.0</td>\n",
       "      <td>0.0</td>\n",
       "      <td>-1.658671</td>\n",
       "      <td>0.0</td>\n",
       "    </tr>\n",
       "    <tr>\n",
       "      <td>4</td>\n",
       "      <td>2.0</td>\n",
       "      <td>0.0</td>\n",
       "      <td>-1.327494</td>\n",
       "      <td>2.0</td>\n",
       "      <td>-1.166611</td>\n",
       "      <td>0.0</td>\n",
       "      <td>1.0</td>\n",
       "      <td>1.0</td>\n",
       "      <td>-1.672217</td>\n",
       "      <td>0.0</td>\n",
       "    </tr>\n",
       "    <tr>\n",
       "      <td>...</td>\n",
       "      <td>...</td>\n",
       "      <td>...</td>\n",
       "      <td>...</td>\n",
       "      <td>...</td>\n",
       "      <td>...</td>\n",
       "      <td>...</td>\n",
       "      <td>...</td>\n",
       "      <td>...</td>\n",
       "      <td>...</td>\n",
       "      <td>...</td>\n",
       "    </tr>\n",
       "    <tr>\n",
       "      <td>9995</td>\n",
       "      <td>0.0</td>\n",
       "      <td>1.0</td>\n",
       "      <td>-1.708908</td>\n",
       "      <td>5.0</td>\n",
       "      <td>-1.225848</td>\n",
       "      <td>1.0</td>\n",
       "      <td>1.0</td>\n",
       "      <td>0.0</td>\n",
       "      <td>-1.656533</td>\n",
       "      <td>0.0</td>\n",
       "    </tr>\n",
       "    <tr>\n",
       "      <td>9996</td>\n",
       "      <td>0.0</td>\n",
       "      <td>1.0</td>\n",
       "      <td>-2.090322</td>\n",
       "      <td>10.0</td>\n",
       "      <td>-1.223860</td>\n",
       "      <td>0.0</td>\n",
       "      <td>1.0</td>\n",
       "      <td>1.0</td>\n",
       "      <td>-1.652011</td>\n",
       "      <td>0.0</td>\n",
       "    </tr>\n",
       "    <tr>\n",
       "      <td>9997</td>\n",
       "      <td>0.0</td>\n",
       "      <td>0.0</td>\n",
       "      <td>-1.994969</td>\n",
       "      <td>7.0</td>\n",
       "      <td>-1.225848</td>\n",
       "      <td>0.0</td>\n",
       "      <td>0.0</td>\n",
       "      <td>1.0</td>\n",
       "      <td>-1.704613</td>\n",
       "      <td>1.0</td>\n",
       "    </tr>\n",
       "    <tr>\n",
       "      <td>9998</td>\n",
       "      <td>1.0</td>\n",
       "      <td>1.0</td>\n",
       "      <td>-1.422847</td>\n",
       "      <td>3.0</td>\n",
       "      <td>-1.219004</td>\n",
       "      <td>1.0</td>\n",
       "      <td>1.0</td>\n",
       "      <td>0.0</td>\n",
       "      <td>-1.659802</td>\n",
       "      <td>1.0</td>\n",
       "    </tr>\n",
       "    <tr>\n",
       "      <td>9999</td>\n",
       "      <td>0.0</td>\n",
       "      <td>0.0</td>\n",
       "      <td>-2.757797</td>\n",
       "      <td>5.0</td>\n",
       "      <td>-1.159944</td>\n",
       "      <td>0.0</td>\n",
       "      <td>1.0</td>\n",
       "      <td>0.0</td>\n",
       "      <td>-1.707813</td>\n",
       "      <td>0.0</td>\n",
       "    </tr>\n",
       "  </tbody>\n",
       "</table>\n",
       "<p>10000 rows × 10 columns</p>\n",
       "</div>"
      ],
      "text/plain": [
       "      Geography  Gender       Age  Tenure   Balance  NumOfProducts  HasCrCard  \\\n",
       "0           0.0     0.0 -1.422847     2.0 -1.225848            0.0        1.0   \n",
       "1           2.0     0.0 -1.518201     1.0 -1.213940            0.0        0.0   \n",
       "2           0.0     0.0 -1.422847     8.0 -1.133003            2.0        1.0   \n",
       "3           0.0     0.0 -1.708908     1.0 -1.225848            1.0        0.0   \n",
       "4           2.0     0.0 -1.327494     2.0 -1.166611            0.0        1.0   \n",
       "...         ...     ...       ...     ...       ...            ...        ...   \n",
       "9995        0.0     1.0 -1.708908     5.0 -1.225848            1.0        1.0   \n",
       "9996        0.0     1.0 -2.090322    10.0 -1.223860            0.0        1.0   \n",
       "9997        0.0     0.0 -1.994969     7.0 -1.225848            0.0        0.0   \n",
       "9998        1.0     1.0 -1.422847     3.0 -1.219004            1.0        1.0   \n",
       "9999        0.0     0.0 -2.757797     5.0 -1.159944            0.0        1.0   \n",
       "\n",
       "      IsActiveMember  EstimatedSalary  Exited  \n",
       "0                1.0        -1.652342     1.0  \n",
       "1                1.0        -1.642413     0.0  \n",
       "2                0.0        -1.641230     1.0  \n",
       "3                0.0        -1.658671     0.0  \n",
       "4                1.0        -1.672217     0.0  \n",
       "...              ...              ...     ...  \n",
       "9995             0.0        -1.656533     0.0  \n",
       "9996             1.0        -1.652011     0.0  \n",
       "9997             1.0        -1.704613     1.0  \n",
       "9998             0.0        -1.659802     1.0  \n",
       "9999             0.0        -1.707813     0.0  \n",
       "\n",
       "[10000 rows x 10 columns]"
      ]
     },
     "execution_count": 49,
     "metadata": {},
     "output_type": "execute_result"
    }
   ],
   "source": [
    "data_scalered = data_ordinal.copy()\n",
    "data_scalered[numeric] = scaler.transform(data_ordinal[numeric])\n",
    "data_scalered"
   ]
  },
  {
   "cell_type": "code",
   "execution_count": 50,
   "metadata": {},
   "outputs": [],
   "source": [
    "features = data_scalered.drop('Exited', axis=1)\n",
    "target = data_scalered['Exited']\n"
   ]
  },
  {
   "cell_type": "code",
   "execution_count": 51,
   "metadata": {},
   "outputs": [],
   "source": [
    "features_train, features_valid_test, target_train, target_valid_test = train_test_split(features, target, test_size=0.4, random_state=12345)\n",
    "features_valid, features_test, target_valid, target_test = train_test_split(features_valid_test, target_valid_test, test_size=0.5, random_state=12345)\n"
   ]
  },
  {
   "cell_type": "code",
   "execution_count": 52,
   "metadata": {},
   "outputs": [],
   "source": [
    "features_downsampled, target_downsampled = downsample(features_train, target_train, 0.25)"
   ]
  },
  {
   "cell_type": "code",
   "execution_count": 53,
   "metadata": {},
   "outputs": [
    {
     "name": "stdout",
     "output_type": "stream",
     "text": [
      "R2 - 0.7725\n"
     ]
    }
   ],
   "source": [
    "tree = RandomForestClassifier(random_state=12345)\n",
    "tree.fit(features_downsampled, target_downsampled)\n",
    "predicted_valid = tree.predict(features_valid)\n",
    "print('R2 - {}'.format((accuracy_score(predicted_valid, target_valid))))"
   ]
  },
  {
   "cell_type": "code",
   "execution_count": 54,
   "metadata": {},
   "outputs": [
    {
     "name": "stdout",
     "output_type": "stream",
     "text": [
      "R2 - 0.769, depth - 1, F1 - 0.5616698292220115\n",
      "R2 - 0.7465, depth - 2, F1 - 0.5548726953467954\n",
      "R2 - 0.7525, depth - 3, F1 - 0.5638766519823788\n",
      "R2 - 0.78, depth - 4, F1 - 0.5849056603773585\n",
      "R2 - 0.7795, depth - 5, F1 - 0.5912882298424468\n",
      "R2 - 0.7705, depth - 6, F1 - 0.5815861440291705\n",
      "R2 - 0.7715, depth - 7, F1 - 0.582648401826484\n",
      "R2 - 0.7745, depth - 8, F1 - 0.5827937095282145\n",
      "R2 - 0.7725, depth - 9, F1 - 0.5767441860465116\n",
      "R2 - 0.772, depth - 10, F1 - 0.5801104972375691\n",
      "R2 - 0.761, depth - 11, F1 - 0.5670289855072463\n",
      "R2 - 0.7675, depth - 12, F1 - 0.5666356011183598\n",
      "R2 - 0.7645, depth - 13, F1 - 0.5768194070080862\n",
      "R2 - 0.7585, depth - 14, F1 - 0.5652565256525652\n",
      "R2 - 0.7515, depth - 15, F1 - 0.5534591194968553\n",
      "R2 - 0.769, depth - 16, F1 - 0.5738007380073802\n",
      "R2 - 0.7725, depth - 17, F1 - 0.5814167433302667\n",
      "R2 - 0.761, depth - 18, F1 - 0.5622710622710624\n",
      "R2 - 0.7745, depth - 19, F1 - 0.5765258215962441\n",
      "result (5, 0.5912882298424468)\n"
     ]
    }
   ],
   "source": [
    "mxN = (0, 0)\n",
    "for depth in np.arange(1,20,1):\n",
    "    tree = RandomForestClassifier(random_state=12345, max_depth=depth, n_estimators=20)\n",
    "    tree.fit(features_downsampled, target_downsampled)\n",
    "    predicted_valid = tree.predict(features_valid)\n",
    "    if f1_score(predicted_valid, target_valid) > mxN[1]:\n",
    "        mxN = (depth, f1_score(predicted_valid, target_valid)) \n",
    "    print('R2 - {}, depth - {}, F1 - {}'.format(tree.score(features_valid, target_valid), depth, f1_score(predicted_valid, target_valid)))\n",
    "\n",
    "print('result', mxN)\n"
   ]
  },
  {
   "cell_type": "markdown",
   "metadata": {},
   "source": [
    "Max F1 with depth = 5. Also we use only 20 tree in our forest. Let's fit model with 100 n_estimators."
   ]
  },
  {
   "cell_type": "code",
   "execution_count": 55,
   "metadata": {},
   "outputs": [],
   "source": [
    "tree = RandomForestClassifier(random_state=12345, max_depth=5, n_estimators=100)\n",
    "tree.fit(features_downsampled, target_downsampled)\n",
    "predicted_valid = tree.predict(features_valid)"
   ]
  },
  {
   "cell_type": "code",
   "execution_count": 56,
   "metadata": {},
   "outputs": [
    {
     "name": "stdout",
     "output_type": "stream",
     "text": [
      "F1 - 0.5901027077497666\n"
     ]
    }
   ],
   "source": [
    "print('F1 - {}'.format((f1_score(predicted_valid, target_valid))))"
   ]
  },
  {
   "cell_type": "code",
   "execution_count": 57,
   "metadata": {},
   "outputs": [],
   "source": [
    "probabilities_valid = tree.predict_proba(features_valid)\n",
    "probabilities_one_valid = probabilities_valid[:, 1]"
   ]
  },
  {
   "cell_type": "code",
   "execution_count": 58,
   "metadata": {},
   "outputs": [
    {
     "name": "stdout",
     "output_type": "stream",
     "text": [
      "Threshold = 0.00 | Precision = 0.209, Recall = 1.000 | F1 - 0.346\n",
      "Threshold = 0.05 | Precision = 0.209, Recall = 1.000 | F1 - 0.346\n",
      "Threshold = 0.10 | Precision = 0.212, Recall = 1.000 | F1 - 0.350\n",
      "Threshold = 0.15 | Precision = 0.227, Recall = 0.988 | F1 - 0.370\n",
      "Threshold = 0.20 | Precision = 0.246, Recall = 0.981 | F1 - 0.394\n",
      "Threshold = 0.25 | Precision = 0.265, Recall = 0.957 | F1 - 0.415\n",
      "Threshold = 0.30 | Precision = 0.295, Recall = 0.931 | F1 - 0.448\n",
      "Threshold = 0.35 | Precision = 0.334, Recall = 0.911 | F1 - 0.489\n",
      "Threshold = 0.40 | Precision = 0.369, Recall = 0.852 | F1 - 0.515\n",
      "Threshold = 0.45 | Precision = 0.422, Recall = 0.801 | F1 - 0.553\n",
      "Threshold = 0.50 | Precision = 0.484, Recall = 0.756 | F1 - 0.590\n",
      "Threshold = 0.55 | Precision = 0.543, Recall = 0.679 | F1 - 0.604\n",
      "Threshold = 0.60 | Precision = 0.612, Recall = 0.600 | F1 - 0.606\n",
      "Threshold = 0.65 | Precision = 0.660, Recall = 0.529 | F1 - 0.587\n",
      "Threshold = 0.70 | Precision = 0.765, Recall = 0.445 | F1 - 0.563\n",
      "Threshold = 0.75 | Precision = 0.832, Recall = 0.368 | F1 - 0.511\n",
      "Threshold = 0.80 | Precision = 0.874, Recall = 0.266 | F1 - 0.407\n",
      "Threshold = 0.85 | Precision = 0.952, Recall = 0.144 | F1 - 0.249\n"
     ]
    }
   ],
   "source": [
    "for threshold in np.arange(0, 0.9, 0.05):\n",
    "    predicted_valid = probabilities_one_valid > threshold\n",
    "    precision = precision_score(target_valid, predicted_valid)\n",
    "    recall = recall_score(target_valid, predicted_valid)\n",
    "    f_1 = f1_score(predicted_valid, target_valid)\n",
    "\n",
    "    print(\"Threshold = {:.2f} | Precision = {:.3f}, Recall = {:.3f} | F1 - {:.3f}\".format(\n",
    "        threshold, precision, recall, f_1))"
   ]
  },
  {
   "cell_type": "code",
   "execution_count": 59,
   "metadata": {},
   "outputs": [
    {
     "data": {
      "image/png": "[encoded data removed]",
      "text/plain": [
       "<Figure size 432x432 with 1 Axes>"
      ]
     },
     "metadata": {
      "needs_background": "light"
     },
     "output_type": "display_data"
    }
   ],
   "source": [
    "precision, recall, thresholds = precision_recall_curve(target_valid, probabilities_valid[:, 1])\n",
    "\n",
    "plt.figure(figsize=(6, 6))\n",
    "plt.plot(0.606, 0.617, 'ro', label='Threshold=0.6')\n",
    "plt.plot(0.482, 0.746, 'go', label='DEFAULT: Threshold=0.5')\n",
    "plt.step(recall, precision, where='post')\n",
    "plt.xlabel('Recall')\n",
    "plt.ylabel('Precision')\n",
    "plt.ylim([0.0, 1.05])\n",
    "plt.xlim([0.0, 1.0])\n",
    "plt.title('Precision-Recall Curve')\n",
    "plt.legend()\n",
    "plt.show()"
   ]
  },
  {
   "cell_type": "code",
   "execution_count": 60,
   "metadata": {},
   "outputs": [
    {
     "data": {
      "image/png": "[encoded data removed]",
      "text/plain": [
       "<Figure size 432x288 with 1 Axes>"
      ]
     },
     "metadata": {
      "needs_background": "light"
     },
     "output_type": "display_data"
    },
    {
     "name": "stdout",
     "output_type": "stream",
     "text": [
      "Area under ROC curve: 0.8464226737398606\n"
     ]
    }
   ],
   "source": [
    "plotROC(target_valid, probabilities_one_valid)"
   ]
  },
  {
   "cell_type": "markdown",
   "metadata": {},
   "source": [
    "We can see that are become more then we use LogisticRegression."
   ]
  },
  {
   "cell_type": "markdown",
   "metadata": {},
   "source": [
    "### Final step, fit best model"
   ]
  },
  {
   "cell_type": "markdown",
   "metadata": {},
   "source": [
    "#### Fit with downsampled."
   ]
  },
  {
   "cell_type": "code",
   "execution_count": 61,
   "metadata": {},
   "outputs": [
    {
     "data": {
      "text/plain": [
       "RandomForestClassifier(bootstrap=True, class_weight=None, criterion='gini',\n",
       "                       max_depth=5, max_features='auto', max_leaf_nodes=None,\n",
       "                       min_impurity_decrease=0.0, min_impurity_split=None,\n",
       "                       min_samples_leaf=1, min_samples_split=2,\n",
       "                       min_weight_fraction_leaf=0.0, n_estimators=100,\n",
       "                       n_jobs=None, oob_score=False, random_state=12345,\n",
       "                       verbose=0, warm_start=False)"
      ]
     },
     "execution_count": 61,
     "metadata": {},
     "output_type": "execute_result"
    }
   ],
   "source": [
    "tree = RandomForestClassifier(random_state=12345, max_depth=5, n_estimators=100)\n",
    "tree.fit(features_downsampled, target_downsampled)\n"
   ]
  },
  {
   "cell_type": "code",
   "execution_count": 62,
   "metadata": {},
   "outputs": [],
   "source": [
    "probabilities_valid = tree.predict_proba(features_test)\n",
    "probabilities_one_valid = probabilities_valid[:, 1]"
   ]
  },
  {
   "cell_type": "code",
   "execution_count": 63,
   "metadata": {},
   "outputs": [],
   "source": [
    "predicted_valid = probabilities_one_valid > 0.6\n",
    "f_1 = f1_score(predicted_valid, target_test)"
   ]
  },
  {
   "cell_type": "code",
   "execution_count": 64,
   "metadata": {},
   "outputs": [
    {
     "name": "stdout",
     "output_type": "stream",
     "text": [
      "F1 - 0.5938967136150235\n"
     ]
    }
   ],
   "source": [
    "print('F1 - {}'.format(f_1))"
   ]
  },
  {
   "cell_type": "code",
   "execution_count": 65,
   "metadata": {},
   "outputs": [
    {
     "data": {
      "image/png": "[encoded data removed]",
      "text/plain": [
       "<Figure size 432x288 with 1 Axes>"
      ]
     },
     "metadata": {
      "needs_background": "light"
     },
     "output_type": "display_data"
    },
    {
     "name": "stdout",
     "output_type": "stream",
     "text": [
      "Area under ROC curve: 0.8420647877062561\n"
     ]
    }
   ],
   "source": [
    "plotROC(target_test, probabilities_one_valid)"
   ]
  },
  {
   "cell_type": "markdown",
   "metadata": {},
   "source": [
    "#### Fit with upsampled"
   ]
  },
  {
   "cell_type": "code",
   "execution_count": 66,
   "metadata": {},
   "outputs": [],
   "source": [
    "features_upsampled, target_upsampled = upsample(features_train, target_train, 4)"
   ]
  },
  {
   "cell_type": "code",
   "execution_count": 67,
   "metadata": {},
   "outputs": [
    {
     "data": {
      "text/plain": [
       "RandomForestClassifier(bootstrap=True, class_weight=None, criterion='gini',\n",
       "                       max_depth=5, max_features='auto', max_leaf_nodes=None,\n",
       "                       min_impurity_decrease=0.0, min_impurity_split=None,\n",
       "                       min_samples_leaf=1, min_samples_split=2,\n",
       "                       min_weight_fraction_leaf=0.0, n_estimators=100,\n",
       "                       n_jobs=None, oob_score=False, random_state=12345,\n",
       "                       verbose=0, warm_start=False)"
      ]
     },
     "execution_count": 67,
     "metadata": {},
     "output_type": "execute_result"
    }
   ],
   "source": [
    "tree = RandomForestClassifier(random_state=12345, max_depth=5, n_estimators=100)\n",
    "tree.fit(features_upsampled, target_upsampled)"
   ]
  },
  {
   "cell_type": "code",
   "execution_count": 68,
   "metadata": {},
   "outputs": [],
   "source": [
    "probabilities_valid = tree.predict_proba(features_test)\n",
    "probabilities_one_valid = probabilities_valid[:, 1]"
   ]
  },
  {
   "cell_type": "code",
   "execution_count": 69,
   "metadata": {},
   "outputs": [],
   "source": [
    "predicted_valid = probabilities_one_valid > 0.6\n",
    "f_1 = f1_score(predicted_valid, target_test)"
   ]
  },
  {
   "cell_type": "code",
   "execution_count": 70,
   "metadata": {},
   "outputs": [
    {
     "name": "stdout",
     "output_type": "stream",
     "text": [
      "F1 - 0.5815423514538558\n"
     ]
    }
   ],
   "source": [
    "print('F1 - {}'.format(f_1))"
   ]
  },
  {
   "cell_type": "code",
   "execution_count": 71,
   "metadata": {},
   "outputs": [
    {
     "data": {
      "image/png": "[encoded data removed]",
      "text/plain": [
       "<Figure size 432x288 with 1 Axes>"
      ]
     },
     "metadata": {
      "needs_background": "light"
     },
     "output_type": "display_data"
    },
    {
     "name": "stdout",
     "output_type": "stream",
     "text": [
      "Area under ROC curve: 0.8478745141071939\n"
     ]
    }
   ],
   "source": [
    "plotROC(target_test, probabilities_one_valid)"
   ]
  },
  {
   "cell_type": "markdown",
   "metadata": {},
   "source": [
    "### Conclusion\n",
    "\n",
    "We use prepare our data to classification and fitting model. Fill na to mean and deffirence balance which depence on tenure. Also we taste LogisticRegression and Forest. Chosen Forest because of best quality. We use downsampling to balance our sample. Use Scalar for numerical columns. Play with threshold.\n",
    "\n",
    "We chosen the best model and got good quality of it. "
   ]
  },
  {
   "cell_type": "code",
   "execution_count": null,
   "metadata": {},
   "outputs": [],
   "source": []
  }
 ],
 "metadata": {
  "kernelspec": {
   "display_name": "Python 3",
   "language": "python",
   "name": "python3"
  },
  "language_info": {
   "codemirror_mode": {
    "name": "ipython",
    "version": 3
   },
   "file_extension": ".py",
   "mimetype": "text/x-python",
   "name": "python",
   "nbconvert_exporter": "python",
   "pygments_lexer": "ipython3",
   "version": "3.7.4"
  }
 },
 "nbformat": 4,
 "nbformat_minor": 2
}
