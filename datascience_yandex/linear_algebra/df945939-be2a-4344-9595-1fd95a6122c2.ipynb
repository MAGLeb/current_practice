{
 "cells": [
  {
   "cell_type": "markdown",
   "metadata": {},
   "source": [
    "<h1 class=\"text_center\">Project description</h1><br>\n",
    "The Sure Tomorrow insurance company wants to protect its clients' data. My task is to develop a data transforming algorithm that would make it hard to recover personal information from the transformed data. This is called data masking, or data obfuscation. I am also expected to prove that the algorithm works correctly. Additionally, the data should be protected in such a way that the quality of machine learning models doesn't suffer.\n",
    "\n",
    "- construct a theoretical proof using properties of models and the given task;\n",
    "- formulate an algorithm for this proof;\n",
    "- check that the algorithm is working correctly when applied to real data.\n",
    "\n",
    "I will use a simple method of data masking, based on an invertible matrix."
   ]
  },
  {
   "cell_type": "markdown",
   "metadata": {},
   "source": [
    "<h3 class=\"text_center\">Data description</h3>\n",
    "\n",
    "**Features**: insured person's gender, age, salary, and number of family members.<br>\n",
    "**Target**: number of insurance benefits received by the insured person over the last five years."
   ]
  },
  {
   "cell_type": "markdown",
   "metadata": {},
   "source": [
    "<h3 class=\"text_center\">Download and look into the data.</h3>"
   ]
  },
  {
   "cell_type": "code",
   "execution_count": 1,
   "metadata": {},
   "outputs": [],
   "source": [
    "import pandas as pd\n",
    "import numpy as np\n",
    "import scipy\n",
    "\n",
    "import time\n",
    "from tqdm import tnrange\n",
    "import matplotlib.pyplot as plt\n",
    "\n",
    "from sklearn.linear_model import LinearRegression\n",
    "from sklearn.metrics import r2_score"
   ]
  },
  {
   "cell_type": "code",
   "execution_count": 2,
   "metadata": {},
   "outputs": [
    {
     "data": {
      "text/html": [
       "<div>\n",
       "<style scoped>\n",
       "    .dataframe tbody tr th:only-of-type {\n",
       "        vertical-align: middle;\n",
       "    }\n",
       "\n",
       "    .dataframe tbody tr th {\n",
       "        vertical-align: top;\n",
       "    }\n",
       "\n",
       "    .dataframe thead th {\n",
       "        text-align: right;\n",
       "    }\n",
       "</style>\n",
       "<table border=\"1\" class=\"dataframe\">\n",
       "  <thead>\n",
       "    <tr style=\"text-align: right;\">\n",
       "      <th></th>\n",
       "      <th>Gender</th>\n",
       "      <th>Age</th>\n",
       "      <th>Salary</th>\n",
       "      <th>Family members</th>\n",
       "      <th>Insurance benefits</th>\n",
       "    </tr>\n",
       "  </thead>\n",
       "  <tbody>\n",
       "    <tr>\n",
       "      <td>0</td>\n",
       "      <td>1</td>\n",
       "      <td>41.0</td>\n",
       "      <td>49600.0</td>\n",
       "      <td>1</td>\n",
       "      <td>0</td>\n",
       "    </tr>\n",
       "    <tr>\n",
       "      <td>1</td>\n",
       "      <td>0</td>\n",
       "      <td>46.0</td>\n",
       "      <td>38000.0</td>\n",
       "      <td>1</td>\n",
       "      <td>1</td>\n",
       "    </tr>\n",
       "    <tr>\n",
       "      <td>2</td>\n",
       "      <td>0</td>\n",
       "      <td>29.0</td>\n",
       "      <td>21000.0</td>\n",
       "      <td>0</td>\n",
       "      <td>0</td>\n",
       "    </tr>\n",
       "    <tr>\n",
       "      <td>3</td>\n",
       "      <td>0</td>\n",
       "      <td>21.0</td>\n",
       "      <td>41700.0</td>\n",
       "      <td>2</td>\n",
       "      <td>0</td>\n",
       "    </tr>\n",
       "    <tr>\n",
       "      <td>4</td>\n",
       "      <td>1</td>\n",
       "      <td>28.0</td>\n",
       "      <td>26100.0</td>\n",
       "      <td>0</td>\n",
       "      <td>0</td>\n",
       "    </tr>\n",
       "    <tr>\n",
       "      <td>...</td>\n",
       "      <td>...</td>\n",
       "      <td>...</td>\n",
       "      <td>...</td>\n",
       "      <td>...</td>\n",
       "      <td>...</td>\n",
       "    </tr>\n",
       "    <tr>\n",
       "      <td>4995</td>\n",
       "      <td>0</td>\n",
       "      <td>28.0</td>\n",
       "      <td>35700.0</td>\n",
       "      <td>2</td>\n",
       "      <td>0</td>\n",
       "    </tr>\n",
       "    <tr>\n",
       "      <td>4996</td>\n",
       "      <td>0</td>\n",
       "      <td>34.0</td>\n",
       "      <td>52400.0</td>\n",
       "      <td>1</td>\n",
       "      <td>0</td>\n",
       "    </tr>\n",
       "    <tr>\n",
       "      <td>4997</td>\n",
       "      <td>0</td>\n",
       "      <td>20.0</td>\n",
       "      <td>33900.0</td>\n",
       "      <td>2</td>\n",
       "      <td>0</td>\n",
       "    </tr>\n",
       "    <tr>\n",
       "      <td>4998</td>\n",
       "      <td>1</td>\n",
       "      <td>22.0</td>\n",
       "      <td>32700.0</td>\n",
       "      <td>3</td>\n",
       "      <td>0</td>\n",
       "    </tr>\n",
       "    <tr>\n",
       "      <td>4999</td>\n",
       "      <td>1</td>\n",
       "      <td>28.0</td>\n",
       "      <td>40600.0</td>\n",
       "      <td>1</td>\n",
       "      <td>0</td>\n",
       "    </tr>\n",
       "  </tbody>\n",
       "</table>\n",
       "<p>5000 rows × 5 columns</p>\n",
       "</div>"
      ],
      "text/plain": [
       "      Gender   Age   Salary  Family members  Insurance benefits\n",
       "0          1  41.0  49600.0               1                   0\n",
       "1          0  46.0  38000.0               1                   1\n",
       "2          0  29.0  21000.0               0                   0\n",
       "3          0  21.0  41700.0               2                   0\n",
       "4          1  28.0  26100.0               0                   0\n",
       "...      ...   ...      ...             ...                 ...\n",
       "4995       0  28.0  35700.0               2                   0\n",
       "4996       0  34.0  52400.0               1                   0\n",
       "4997       0  20.0  33900.0               2                   0\n",
       "4998       1  22.0  32700.0               3                   0\n",
       "4999       1  28.0  40600.0               1                   0\n",
       "\n",
       "[5000 rows x 5 columns]"
      ]
     },
     "execution_count": 2,
     "metadata": {},
     "output_type": "execute_result"
    }
   ],
   "source": [
    "data = pd.read_csv('./insurance_us.csv')\n",
    "data"
   ]
  },
  {
   "cell_type": "markdown",
   "metadata": {},
   "source": [
    "<h3 class=\"text_center\">Provide a theoretical proof based on the equation of linear regression. The features are multiplied by an invertible matrix. Show that the quality of the model is the same for both sets of parameters: the original features and the features after multiplication. How are the weight vectors from MSE minimums for these models related?</h3>"
   ]
  },
  {
   "cell_type": "markdown",
   "metadata": {},
   "source": [
    "$$MSE(X\\cdot w_2, y) == MSE(X\\cdot A\\cdot w_1, y)$$ \n",
    "\n",
    "where A - is invertible matrix\n",
    "\n",
    "$$w_1 = ((XA)^T\\cdot XA)^{-1}\\cdot(XA)^T\\cdot y$$\n",
    "$$w_2 = ((X)^T\\cdot X)^{-1}\\cdot(X)^T\\cdot y$$\n",
    "\n",
    "$$\\sum_{i=1}^{n}((XA\\cdot ((XA)^T\\cdot XA)^{-1}\\cdot (XA)^T\\cdot y)_i - y_i)^2 = \\sum_{i=1}^{n}((X\\cdot (X^T\\cdot X)^{-1}\\cdot X^T\\cdot y)_i - y_i)^2$$\n",
    "\n",
    "based on these two simple properties of matrices:\n",
    "\n",
    "$$(A⋅B)^{−1}=B^{−1}⋅A^{−1}$$\n",
    "$$(A⋅B)^T=B^T⋅A^T$$\n",
    "\n",
    "the left part of the expression is reduced to a ones matrix:\n",
    "\n",
    "$$XA\\cdot ((XA)^T\\cdot XA)^{-1}\\cdot (XA)^T = XA\\cdot (A^T\\cdot (X^TX)\\cdot A)^{-1}\\cdot (XA)^T = XA\\cdot A^{-1}\\cdot (X^TX)^{-1}\\cdot (A^T)^{-1}\\cdot A^TX^T = \\\\ = X\\cdot(X^TX)^{-1}\\cdot X^T$$\n",
    "\n",
    "the right side is similarly transformed into a ones matrix too.\n",
    "\n",
    "<div style=\"position: absolute; right: 200px; bottom: 15px; display: flex; align-items: center\">\n",
    "    <div style=\"width: 20px; height: 20px; background: black\">\n",
    "</div>\n",
    "\n",
    "\n"
   ]
  },
  {
   "cell_type": "markdown",
   "metadata": {},
   "source": [
    "<h3 class=\"text_center\">State an algorithm for data transformation to solve the task. Explanation, why the linear regression quality won't change based on the proof above.</h3>"
   ]
  },
  {
   "cell_type": "markdown",
   "metadata": {},
   "source": [
    "Train two models:\n",
    "- on the objects with untransformed features\n",
    "- on the objects with transformed features, multiplied on invertible matrix\n",
    "\n",
    "Make predictions on our own objects and compare two models trained on two different data. We approve above, that accuracy of the models will be the same. Let's check it in practice.\n"
   ]
  },
  {
   "cell_type": "code",
   "execution_count": 18,
   "metadata": {},
   "outputs": [],
   "source": [
    "features = data.drop('Insurance benefits', 1)\n",
    "target = data['Insurance benefits']"
   ]
  },
  {
   "cell_type": "code",
   "execution_count": null,
   "metadata": {},
   "outputs": [],
   "source": [
    "model_first = LinearRegression()\n",
    "model_first.fit(features, target)\n",
    "predicted_value = model_first.predict(features)\n",
    "score_first = r2_score(target, predicted_value)\n",
    "\n",
    "print(score_first)"
   ]
  },
  {
   "cell_type": "code",
   "execution_count": null,
   "metadata": {},
   "outputs": [],
   "source": [
    "model_first.coef_"
   ]
  },
  {
   "cell_type": "markdown",
   "metadata": {},
   "source": []
  },
  {
   "cell_type": "code",
   "execution_count": 5,
   "metadata": {},
   "outputs": [
    {
     "name": "stderr",
     "output_type": "stream",
     "text": [
      "/opt/conda/lib/python3.7/site-packages/ipykernel_launcher.py:3: TqdmDeprecationWarning: Please use `tqdm.notebook.trange` instead of `tqdm.tnrange`\n",
      "  This is separate from the ipykernel package so we can avoid doing imports until\n"
     ]
    },
    {
     "data": {
      "application/vnd.jupyter.widget-view+json": {
       "model_id": "5f0403a2b1bc4bd9861750110c188379",
       "version_major": 2,
       "version_minor": 0
      },
      "text/plain": [
       "HBox(children=(FloatProgress(value=0.0, max=19.0), HTML(value='')))"
      ]
     },
     "metadata": {},
     "output_type": "display_data"
    },
    {
     "name": "stdout",
     "output_type": "stream",
     "text": [
      "\n"
     ]
    }
   ],
   "source": [
    "results = []\n",
    "\n",
    "for i in tnrange(1, 20):\n",
    "    counter = 0\n",
    "    det = 1\n",
    "    while det != 0:\n",
    "        invertible_matrix = np.random.randint(low=0,high=i,size=(4,4))\n",
    "        det = np.linalg.det(invertible_matrix)\n",
    "        counter += 1\n",
    "    results.append(counter)\n",
    "    "
   ]
  },
  {
   "cell_type": "code",
   "execution_count": 6,
   "metadata": {},
   "outputs": [
    {
     "data": {
      "text/plain": [
       "Text(0.5, 0.98, 'Dependence of the range of values on the first attempt to obtain a non-degenerate matrix')"
      ]
     },
     "execution_count": 6,
     "metadata": {},
     "output_type": "execute_result"
    },
    {
     "data": {
      "image/png": "[encoded data removed]",
      "text/plain": [
       "<Figure size 1440x720 with 1 Axes>"
      ]
     },
     "metadata": {
      "needs_background": "light"
     },
     "output_type": "display_data"
    }
   ],
   "source": [
    "fig = plt.figure(figsize=(20,10))\n",
    "plt.plot(np.arange(1, 20), results)\n",
    "fig.suptitle('Dependence of the range of values on the first attempt to obtain a non-degenerate matrix', fontsize=26)\n"
   ]
  },
  {
   "cell_type": "markdown",
   "metadata": {},
   "source": []
  },
  {
   "cell_type": "code",
   "execution_count": 8,
   "metadata": {},
   "outputs": [
    {
     "name": "stdout",
     "output_type": "stream",
     "text": [
      "[[ 1 17  9 15]\n",
      " [ 8  4 16 16]\n",
      " [ 6 19  5  2]\n",
      " [ 7  0  7  7]]\n"
     ]
    }
   ],
   "source": [
    "while True:\n",
    "    invertible_matrix = np.random.randint(low=0,high=20,size=(4,4))\n",
    "    det = np.linalg.det(invertible_matrix)\n",
    "    \n",
    "    if det != 0:\n",
    "        break\n",
    "        \n",
    "print(invertible_matrix)"
   ]
  },
  {
   "cell_type": "code",
   "execution_count": 200,
   "metadata": {},
   "outputs": [],
   "source": [
    "features_invertible = features @ invertible_matrix"
   ]
  },
  {
   "cell_type": "code",
   "execution_count": 201,
   "metadata": {},
   "outputs": [
    {
     "name": "stdout",
     "output_type": "stream",
     "text": [
      "0.42494550286668853\n"
     ]
    }
   ],
   "source": [
    "model = LinearRegression()\n",
    "model.fit(features_invertible, target)\n",
    "predicted_value = model.predict(features_invertible)\n",
    "score = r2_score(target, predicted_value)\n",
    "\n",
    "print(score)"
   ]
  },
  {
   "cell_type": "code",
   "execution_count": 213,
   "metadata": {},
   "outputs": [
    {
     "data": {
      "text/plain": [
       "array([-0.00353878, -0.00083862, -0.0003337 ,  0.00498073])"
      ]
     },
     "execution_count": 213,
     "metadata": {},
     "output_type": "execute_result"
    }
   ],
   "source": [
    "model.coef_"
   ]
  },
  {
   "cell_type": "markdown",
   "metadata": {},
   "source": [
    "We need to make sure that the quality of linear regression from sklearn is the same before and after transformation. We will use the R2 metric.\n",
    "\n",
    "Below I show, that differs of scores is low and our theorem is true."
   ]
  },
  {
   "cell_type": "code",
   "execution_count": 216,
   "metadata": {},
   "outputs": [
    {
     "data": {
      "text/plain": [
       "-8.43769498715119e-15"
      ]
     },
     "execution_count": 216,
     "metadata": {},
     "output_type": "execute_result"
    }
   ],
   "source": [
    "diff_between_scores = score_first - score\n",
    "diff_between_scores"
   ]
  },
  {
   "cell_type": "markdown",
   "metadata": {},
   "source": [
    "Accordingly, the difference between the weights vector of the first and second algorithms differs by the inverse matrix that we multiplied our features for\n",
    "hiding their real values.\n"
   ]
  },
  {
   "cell_type": "code",
   "execution_count": 208,
   "metadata": {},
   "outputs": [
    {
     "data": {
      "text/plain": [
       "array([ 7.92580543e-03,  3.57083050e-02, -1.70080491e-07, -1.35676623e-02])"
      ]
     },
     "execution_count": 208,
     "metadata": {},
     "output_type": "execute_result"
    }
   ],
   "source": [
    "invertible_matrix @ model.coef_"
   ]
  },
  {
   "cell_type": "code",
   "execution_count": 214,
   "metadata": {},
   "outputs": [
    {
     "data": {
      "text/plain": [
       "array([ 7.92580543e-03,  3.57083050e-02, -1.70080492e-07, -1.35676623e-02])"
      ]
     },
     "execution_count": 214,
     "metadata": {},
     "output_type": "execute_result"
    }
   ],
   "source": [
    "model_first.coef_"
   ]
  },
  {
   "cell_type": "code",
   "execution_count": null,
   "metadata": {},
   "outputs": [],
   "source": []
  }
 ],
 "metadata": {
  "kernelspec": {
   "display_name": "Python 3",
   "language": "python",
   "name": "python3"
  },
  "language_info": {
   "codemirror_mode": {
    "name": "ipython",
    "version": 3
   },
   "file_extension": ".py",
   "mimetype": "text/x-python",
   "name": "python",
   "nbconvert_exporter": "python",
   "pygments_lexer": "ipython3",
   "version": "3.7.4"
  }
 },
 "nbformat": 4,
 "nbformat_minor": 2
}
