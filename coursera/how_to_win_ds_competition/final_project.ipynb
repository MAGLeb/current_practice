{
 "cells": [
  {
   "cell_type": "markdown",
   "metadata": {},
   "source": [
    "## Advice from first week\n",
    "\n",
    "Competition data is rather challenging, so the sooner you get yourself familiar with it - the better. You can start with submitting sample_submission.csv from \"Data\" page on Kaggle and try submitting different constants."
   ]
  },
  {
   "cell_type": "markdown",
   "metadata": {},
   "source": [
    "## Advice from second week\n",
    "\n",
    "A good exercise is to reproduce previous_value_benchmark. As the name suggest - in this benchmark for the each shop/item pair our predictions are just monthly sales from the previous month, i.e. October 2015.\n",
    "\n",
    "The most important step at reproducing this score is correctly aggregating daily data and constructing monthly sales data frame. You need to get lagged values, fill NaNs with zeros and clip the values into [0,20] range. If you do it correctly,  you'll get precisely 1.16777 on the public leaderboard.\n",
    "\n",
    "Generating features like this is a necessary basis for more complex models. Also, if you decide to fit some model, don't forget to clip the target into [0,20] range, it makes a big difference."
   ]
  },
  {
   "cell_type": "markdown",
   "metadata": {},
   "source": [
    "## Advice from third week\n",
    "\n",
    "You can get a rather good score after creating some lag-based features like in advice from previous week and feeding them into gradient boosted trees model.\n",
    "\n",
    "Apart from item/shop pair lags you can try adding lagged values of total shop or total item sales (which are essentially mean-encodings). All of that is going to add some new information."
   ]
  },
  {
   "cell_type": "markdown",
   "metadata": {},
   "source": [
    "## Descriptions\n",
    "\n",
    "You are provided with daily historical sales data. The task is to forecast the total amount of products sold in every shop for the test set. Note that the list of shops and products slightly changes every month. Creating a robust model that can handle such situations is part of the challenge.\n",
    "\n",
    "## File descriptions\n",
    "\n",
    "- sales_train.csv - the training set. Daily historical data from January 2013 to October 2015.\n",
    "- test.csv - the test set. You need to forecast the sales for these shops and products for November 2015.\n",
    "- sample_submission.csv - a sample submission file in the correct format.\n",
    "- items.csv - supplemental information about the items/products.\n",
    "- item_categories.csv  - supplemental information about the items categories.\n",
    "- shops.csv- supplemental information about the shops.\n",
    "\n",
    "## Data fields\n",
    "\n",
    "- ID - an Id that represents a (Shop, Item) tuple within the test set\n",
    "- shop_id - unique identifier of a shop\n",
    "- item_id - unique identifier of a product\n",
    "- item_category_id - unique identifier of item category\n",
    "- item_cnt_day - number of products sold. You are predicting a monthly amount of this measure\n",
    "- item_price - current price of an item\n",
    "- date - date in format dd/mm/yyyy\n",
    "- date_block_num - a consecutive month number, used for convenience. January 2013 is 0, February 2013 is 1,..., - October 2015 is 33\n",
    "- item_name - name of item\n",
    "- shop_name - name of shop\n",
    "- item_category_name - name of item category\n"
   ]
  },
  {
   "cell_type": "code",
   "execution_count": 1,
   "metadata": {},
   "outputs": [],
   "source": [
    "import pandas as pd\n",
    "import re\n",
    "\n",
    "pd.plotting.register_matplotlib_converters()\n",
    "import matplotlib.pyplot as plt\n",
    "%matplotlib inline\n",
    "import seaborn as sns"
   ]
  },
  {
   "cell_type": "markdown",
   "metadata": {},
   "source": [
    "## 1. Preprocessing data"
   ]
  },
  {
   "cell_type": "code",
   "execution_count": 2,
   "metadata": {},
   "outputs": [],
   "source": [
    "item_categories = pd.read_csv('item_categories.csv')\n",
    "items = pd.read_csv('items.csv')\n",
    "shops = pd.read_csv('shops.csv')\n",
    "\n",
    "sales_train = pd.read_csv('sales_train.csv')\n",
    "test = pd.read_csv('test.csv')\n",
    "\n",
    "sample_submission = pd.read_csv('sample_submission.csv')"
   ]
  },
  {
   "cell_type": "code",
   "execution_count": 3,
   "metadata": {},
   "outputs": [
    {
     "name": "stdout",
     "output_type": "stream",
     "text": [
      "<class 'pandas.core.frame.DataFrame'>\n",
      "RangeIndex: 2935849 entries, 0 to 2935848\n",
      "Data columns (total 6 columns):\n",
      " #   Column          Dtype  \n",
      "---  ------          -----  \n",
      " 0   date            object \n",
      " 1   date_block_num  int64  \n",
      " 2   shop_id         int64  \n",
      " 3   item_id         int64  \n",
      " 4   item_price      float64\n",
      " 5   item_cnt_day    float64\n",
      "dtypes: float64(2), int64(3), object(1)\n",
      "memory usage: 134.4+ MB\n"
     ]
    }
   ],
   "source": [
    "sales_train.info()"
   ]
  },
  {
   "cell_type": "code",
   "execution_count": 4,
   "metadata": {},
   "outputs": [],
   "source": [
    "items['item_category'] = items['item_category_id'].map(item_categories.set_index('item_category_id').to_dict()['item_category_name'])"
   ]
  },
  {
   "cell_type": "code",
   "execution_count": 5,
   "metadata": {},
   "outputs": [
    {
     "data": {
      "text/html": [
       "<div>\n",
       "<style scoped>\n",
       "    .dataframe tbody tr th:only-of-type {\n",
       "        vertical-align: middle;\n",
       "    }\n",
       "\n",
       "    .dataframe tbody tr th {\n",
       "        vertical-align: top;\n",
       "    }\n",
       "\n",
       "    .dataframe thead th {\n",
       "        text-align: right;\n",
       "    }\n",
       "</style>\n",
       "<table border=\"1\" class=\"dataframe\">\n",
       "  <thead>\n",
       "    <tr style=\"text-align: right;\">\n",
       "      <th></th>\n",
       "      <th>date</th>\n",
       "      <th>date_block_num</th>\n",
       "      <th>shop_id</th>\n",
       "      <th>item_id</th>\n",
       "      <th>item_price</th>\n",
       "      <th>item_cnt_day</th>\n",
       "      <th>shop_location</th>\n",
       "      <th>item_category</th>\n",
       "      <th>item_name</th>\n",
       "      <th>day</th>\n",
       "      <th>month</th>\n",
       "      <th>dayofweek</th>\n",
       "      <th>year</th>\n",
       "    </tr>\n",
       "  </thead>\n",
       "  <tbody>\n",
       "    <tr>\n",
       "      <th>0</th>\n",
       "      <td>2013-01-01</td>\n",
       "      <td>0</td>\n",
       "      <td>18</td>\n",
       "      <td>5823</td>\n",
       "      <td>2500.0</td>\n",
       "      <td>1.0</td>\n",
       "      <td>Красноярск ТЦ \"Июнь\"</td>\n",
       "      <td>Карты оплаты - PSN</td>\n",
       "      <td>Playstation Store пополнение бумажника: Карта ...</td>\n",
       "      <td>1</td>\n",
       "      <td>1</td>\n",
       "      <td>Tuesday</td>\n",
       "      <td>2013</td>\n",
       "    </tr>\n",
       "    <tr>\n",
       "      <th>1</th>\n",
       "      <td>2013-01-01</td>\n",
       "      <td>0</td>\n",
       "      <td>27</td>\n",
       "      <td>5573</td>\n",
       "      <td>849.0</td>\n",
       "      <td>1.0</td>\n",
       "      <td>Москва ТЦ \"МЕГА Белая Дача II\"</td>\n",
       "      <td>Аксессуары - PS3</td>\n",
       "      <td>PS Move Motion Controller Charger (Зарядная ст...</td>\n",
       "      <td>1</td>\n",
       "      <td>1</td>\n",
       "      <td>Tuesday</td>\n",
       "      <td>2013</td>\n",
       "    </tr>\n",
       "    <tr>\n",
       "      <th>2</th>\n",
       "      <td>2013-01-01</td>\n",
       "      <td>0</td>\n",
       "      <td>7</td>\n",
       "      <td>1006</td>\n",
       "      <td>399.0</td>\n",
       "      <td>1.0</td>\n",
       "      <td>Воронеж ТРЦ \"Максимир\"</td>\n",
       "      <td>Подарки - Развитие</td>\n",
       "      <td>3D Crystal Puzzle Дельфин XL</td>\n",
       "      <td>1</td>\n",
       "      <td>1</td>\n",
       "      <td>Tuesday</td>\n",
       "      <td>2013</td>\n",
       "    </tr>\n",
       "    <tr>\n",
       "      <th>3</th>\n",
       "      <td>2013-01-01</td>\n",
       "      <td>0</td>\n",
       "      <td>19</td>\n",
       "      <td>17707</td>\n",
       "      <td>899.0</td>\n",
       "      <td>1.0</td>\n",
       "      <td>Курск ТЦ \"Пушкинский\"</td>\n",
       "      <td>Игры - PS3</td>\n",
       "      <td>Праздник спорта (Essentials) (только для PS Mo...</td>\n",
       "      <td>1</td>\n",
       "      <td>1</td>\n",
       "      <td>Tuesday</td>\n",
       "      <td>2013</td>\n",
       "    </tr>\n",
       "    <tr>\n",
       "      <th>4</th>\n",
       "      <td>2013-01-01</td>\n",
       "      <td>0</td>\n",
       "      <td>14</td>\n",
       "      <td>19548</td>\n",
       "      <td>149.0</td>\n",
       "      <td>1.0</td>\n",
       "      <td>Казань ТЦ \"ПаркХаус\" II</td>\n",
       "      <td>Кино - DVD</td>\n",
       "      <td>ТАКИЕ РАЗНЫЕ БЛИЗНЕЦЫ (регион)</td>\n",
       "      <td>1</td>\n",
       "      <td>1</td>\n",
       "      <td>Tuesday</td>\n",
       "      <td>2013</td>\n",
       "    </tr>\n",
       "  </tbody>\n",
       "</table>\n",
       "</div>"
      ],
      "text/plain": [
       "        date  date_block_num  shop_id  item_id  item_price  item_cnt_day  \\\n",
       "0 2013-01-01               0       18     5823      2500.0           1.0   \n",
       "1 2013-01-01               0       27     5573       849.0           1.0   \n",
       "2 2013-01-01               0        7     1006       399.0           1.0   \n",
       "3 2013-01-01               0       19    17707       899.0           1.0   \n",
       "4 2013-01-01               0       14    19548       149.0           1.0   \n",
       "\n",
       "                    shop_location       item_category  \\\n",
       "0            Красноярск ТЦ \"Июнь\"  Карты оплаты - PSN   \n",
       "1  Москва ТЦ \"МЕГА Белая Дача II\"    Аксессуары - PS3   \n",
       "2          Воронеж ТРЦ \"Максимир\"  Подарки - Развитие   \n",
       "3           Курск ТЦ \"Пушкинский\"          Игры - PS3   \n",
       "4         Казань ТЦ \"ПаркХаус\" II          Кино - DVD   \n",
       "\n",
       "                                           item_name  day  month dayofweek  \\\n",
       "0  Playstation Store пополнение бумажника: Карта ...    1      1   Tuesday   \n",
       "1  PS Move Motion Controller Charger (Зарядная ст...    1      1   Tuesday   \n",
       "2                       3D Crystal Puzzle Дельфин XL    1      1   Tuesday   \n",
       "3  Праздник спорта (Essentials) (только для PS Mo...    1      1   Tuesday   \n",
       "4                     ТАКИЕ РАЗНЫЕ БЛИЗНЕЦЫ (регион)    1      1   Tuesday   \n",
       "\n",
       "   year  \n",
       "0  2013  \n",
       "1  2013  \n",
       "2  2013  \n",
       "3  2013  \n",
       "4  2013  "
      ]
     },
     "execution_count": 5,
     "metadata": {},
     "output_type": "execute_result"
    }
   ],
   "source": [
    "sales_train['date'] = pd.to_datetime(sales_train['date'], format=\"%d.%m.%Y\")\n",
    "sales_train = sales_train.sort_values(by='date')\n",
    "sales_train = sales_train.reset_index(drop=True)\n",
    "sales_train = sales_train.drop_duplicates()\n",
    "sales_train['shop_location'] = sales_train['shop_id'].map(shops.set_index('shop_id').to_dict()['shop_name'])\n",
    "sales_train['item_category'] = sales_train['item_id'].map(items['item_category'].to_dict())\n",
    "sales_train['item_name'] = sales_train['item_id'].map(items['item_name'].to_dict())\n",
    "sales_train['day'] = sales_train['date'].dt.day\n",
    "sales_train['month'] = sales_train['date'].dt.month\n",
    "sales_train['dayofweek'] = sales_train['date'].dt.day_name()\n",
    "sales_train['year'] = sales_train['date'].dt.year\n",
    "#sales_train['date_block_num'] = (sales_train['year'] - 2013) * 12 + sales_train['month'] - 1\n",
    "sales_train.head()"
   ]
  },
  {
   "cell_type": "code",
   "execution_count": 6,
   "metadata": {},
   "outputs": [
    {
     "data": {
      "text/html": [
       "<div>\n",
       "<style scoped>\n",
       "    .dataframe tbody tr th:only-of-type {\n",
       "        vertical-align: middle;\n",
       "    }\n",
       "\n",
       "    .dataframe tbody tr th {\n",
       "        vertical-align: top;\n",
       "    }\n",
       "\n",
       "    .dataframe thead th {\n",
       "        text-align: right;\n",
       "    }\n",
       "</style>\n",
       "<table border=\"1\" class=\"dataframe\">\n",
       "  <thead>\n",
       "    <tr style=\"text-align: right;\">\n",
       "      <th></th>\n",
       "      <th>date</th>\n",
       "      <th>date_block_num</th>\n",
       "      <th>shop_id</th>\n",
       "      <th>item_id</th>\n",
       "      <th>item_price</th>\n",
       "      <th>item_cnt_day</th>\n",
       "      <th>shop_location</th>\n",
       "      <th>item_category</th>\n",
       "      <th>item_name</th>\n",
       "      <th>day</th>\n",
       "      <th>month</th>\n",
       "      <th>dayofweek</th>\n",
       "      <th>year</th>\n",
       "      <th>category</th>\n",
       "      <th>subcategory</th>\n",
       "      <th>location</th>\n",
       "      <th>shop_type</th>\n",
       "    </tr>\n",
       "  </thead>\n",
       "  <tbody>\n",
       "    <tr>\n",
       "      <th>0</th>\n",
       "      <td>2013-01-01</td>\n",
       "      <td>0</td>\n",
       "      <td>18</td>\n",
       "      <td>5823</td>\n",
       "      <td>2500.0</td>\n",
       "      <td>1.0</td>\n",
       "      <td>Красноярск ТЦ \"Июнь\"</td>\n",
       "      <td>Карты оплаты - PSN</td>\n",
       "      <td>Playstation Store пополнение бумажника: Карта ...</td>\n",
       "      <td>1</td>\n",
       "      <td>1</td>\n",
       "      <td>Tuesday</td>\n",
       "      <td>2013</td>\n",
       "      <td>Карты оплаты</td>\n",
       "      <td>PSN</td>\n",
       "      <td>Красноярск</td>\n",
       "      <td>ТЦ</td>\n",
       "    </tr>\n",
       "    <tr>\n",
       "      <th>1</th>\n",
       "      <td>2013-01-01</td>\n",
       "      <td>0</td>\n",
       "      <td>27</td>\n",
       "      <td>5573</td>\n",
       "      <td>849.0</td>\n",
       "      <td>1.0</td>\n",
       "      <td>Москва ТЦ \"МЕГА Белая Дача II\"</td>\n",
       "      <td>Аксессуары - PS3</td>\n",
       "      <td>PS Move Motion Controller Charger (Зарядная ст...</td>\n",
       "      <td>1</td>\n",
       "      <td>1</td>\n",
       "      <td>Tuesday</td>\n",
       "      <td>2013</td>\n",
       "      <td>Аксессуары</td>\n",
       "      <td>PS3</td>\n",
       "      <td>Москва</td>\n",
       "      <td>ТЦ</td>\n",
       "    </tr>\n",
       "    <tr>\n",
       "      <th>2</th>\n",
       "      <td>2013-01-01</td>\n",
       "      <td>0</td>\n",
       "      <td>7</td>\n",
       "      <td>1006</td>\n",
       "      <td>399.0</td>\n",
       "      <td>1.0</td>\n",
       "      <td>Воронеж ТРЦ \"Максимир\"</td>\n",
       "      <td>Подарки - Развитие</td>\n",
       "      <td>3D Crystal Puzzle Дельфин XL</td>\n",
       "      <td>1</td>\n",
       "      <td>1</td>\n",
       "      <td>Tuesday</td>\n",
       "      <td>2013</td>\n",
       "      <td>Подарки</td>\n",
       "      <td>Развитие</td>\n",
       "      <td>Воронеж</td>\n",
       "      <td>ТРЦ</td>\n",
       "    </tr>\n",
       "    <tr>\n",
       "      <th>3</th>\n",
       "      <td>2013-01-01</td>\n",
       "      <td>0</td>\n",
       "      <td>19</td>\n",
       "      <td>17707</td>\n",
       "      <td>899.0</td>\n",
       "      <td>1.0</td>\n",
       "      <td>Курск ТЦ \"Пушкинский\"</td>\n",
       "      <td>Игры - PS3</td>\n",
       "      <td>Праздник спорта (Essentials) (только для PS Mo...</td>\n",
       "      <td>1</td>\n",
       "      <td>1</td>\n",
       "      <td>Tuesday</td>\n",
       "      <td>2013</td>\n",
       "      <td>Игры</td>\n",
       "      <td>PS3</td>\n",
       "      <td>Курск</td>\n",
       "      <td>ТЦ</td>\n",
       "    </tr>\n",
       "    <tr>\n",
       "      <th>4</th>\n",
       "      <td>2013-01-01</td>\n",
       "      <td>0</td>\n",
       "      <td>14</td>\n",
       "      <td>19548</td>\n",
       "      <td>149.0</td>\n",
       "      <td>1.0</td>\n",
       "      <td>Казань ТЦ \"ПаркХаус\" II</td>\n",
       "      <td>Кино - DVD</td>\n",
       "      <td>ТАКИЕ РАЗНЫЕ БЛИЗНЕЦЫ (регион)</td>\n",
       "      <td>1</td>\n",
       "      <td>1</td>\n",
       "      <td>Tuesday</td>\n",
       "      <td>2013</td>\n",
       "      <td>Кино</td>\n",
       "      <td>DVD</td>\n",
       "      <td>Казань</td>\n",
       "      <td>ТЦ</td>\n",
       "    </tr>\n",
       "  </tbody>\n",
       "</table>\n",
       "</div>"
      ],
      "text/plain": [
       "        date  date_block_num  shop_id  item_id  item_price  item_cnt_day  \\\n",
       "0 2013-01-01               0       18     5823      2500.0           1.0   \n",
       "1 2013-01-01               0       27     5573       849.0           1.0   \n",
       "2 2013-01-01               0        7     1006       399.0           1.0   \n",
       "3 2013-01-01               0       19    17707       899.0           1.0   \n",
       "4 2013-01-01               0       14    19548       149.0           1.0   \n",
       "\n",
       "                    shop_location       item_category  \\\n",
       "0            Красноярск ТЦ \"Июнь\"  Карты оплаты - PSN   \n",
       "1  Москва ТЦ \"МЕГА Белая Дача II\"    Аксессуары - PS3   \n",
       "2          Воронеж ТРЦ \"Максимир\"  Подарки - Развитие   \n",
       "3           Курск ТЦ \"Пушкинский\"          Игры - PS3   \n",
       "4         Казань ТЦ \"ПаркХаус\" II          Кино - DVD   \n",
       "\n",
       "                                           item_name  day  month dayofweek  \\\n",
       "0  Playstation Store пополнение бумажника: Карта ...    1      1   Tuesday   \n",
       "1  PS Move Motion Controller Charger (Зарядная ст...    1      1   Tuesday   \n",
       "2                       3D Crystal Puzzle Дельфин XL    1      1   Tuesday   \n",
       "3  Праздник спорта (Essentials) (только для PS Mo...    1      1   Tuesday   \n",
       "4                     ТАКИЕ РАЗНЫЕ БЛИЗНЕЦЫ (регион)    1      1   Tuesday   \n",
       "\n",
       "   year      category subcategory    location shop_type  \n",
       "0  2013  Карты оплаты         PSN  Красноярск        ТЦ  \n",
       "1  2013    Аксессуары         PS3      Москва        ТЦ  \n",
       "2  2013       Подарки    Развитие     Воронеж       ТРЦ  \n",
       "3  2013          Игры         PS3       Курск        ТЦ  \n",
       "4  2013          Кино         DVD      Казань        ТЦ  "
      ]
     },
     "execution_count": 6,
     "metadata": {},
     "output_type": "execute_result"
    }
   ],
   "source": [
    "def get_category(row):\n",
    "    if len(row.split(' - ')) == 1:\n",
    "        return row\n",
    "    \n",
    "    category, subcategory = row.split(' - ')\n",
    "    return category\n",
    "\n",
    "def get_subcategory(row):\n",
    "    if len(row.split(' - ')) == 1:\n",
    "        return 'Прочие'\n",
    "    \n",
    "    category, subcategory = row.split(' - ')\n",
    "    return subcategory\n",
    "\n",
    "sales_train['category'] = sales_train['item_category'].apply(get_category)\n",
    "sales_train['subcategory']  = sales_train['item_category'].apply(get_subcategory)\n",
    "\n",
    "sales_train['location'] = sales_train['shop_location'].apply(lambda x: x.split()[0])\n",
    "sales_train.loc[sales_train['location'] == '!Якутск', 'location'] = 'Якутск'\n",
    "sales_train.loc[sales_train['location'] == 'Цифровой', 'location'] = 'Интернет-магазин'\n",
    "\n",
    "\n",
    "\n",
    "def shop_type(row):\n",
    "    inter = re.search('\\s[\\w\\-]+\\s\\\"[\\s\\w\\-]*\"', row)\n",
    "    \n",
    "    if inter is None:\n",
    "        return 'Прочие'\n",
    "    \n",
    "    result = inter.group().split()[0]\n",
    "    \n",
    "    return result\n",
    "\n",
    "sales_train['shop_type'] = sales_train['shop_location'].apply(shop_type)\n",
    "sales_train.loc[sales_train['shop_type'] == 'Сити-Парк', 'shop_type'] = 'ТРЦ'\n",
    "\n",
    "sales_train.head()"
   ]
  },
  {
   "cell_type": "code",
   "execution_count": 7,
   "metadata": {},
   "outputs": [
    {
     "data": {
      "text/plain": [
       "<AxesSubplot:xlabel='item_price', ylabel='item_cnt_day'>"
      ]
     },
     "execution_count": 7,
     "metadata": {},
     "output_type": "execute_result"
    },
    {
     "data": {
      "image/png": "[encoded data removed]",
      "text/plain": [
       "<Figure size 432x432 with 1 Axes>"
      ]
     },
     "metadata": {
      "needs_background": "light"
     },
     "output_type": "display_data"
    }
   ],
   "source": [
    "plt.figure(figsize=(6, 6))\n",
    "\n",
    "sns.scatterplot(x=sales_train['item_price'], y=sales_train['item_cnt_day'])"
   ]
  },
  {
   "cell_type": "code",
   "execution_count": 8,
   "metadata": {},
   "outputs": [
    {
     "name": "stderr",
     "output_type": "stream",
     "text": [
      "/home/magleb/.local/lib/python3.8/site-packages/seaborn/_decorators.py:36: FutureWarning: Pass the following variable as a keyword arg: x. From version 0.12, the only valid positional argument will be `data`, and passing other arguments without an explicit keyword will result in an error or misinterpretation.\n",
      "  warnings.warn(\n",
      "/home/magleb/.local/lib/python3.8/site-packages/seaborn/_decorators.py:36: FutureWarning: Pass the following variable as a keyword arg: x. From version 0.12, the only valid positional argument will be `data`, and passing other arguments without an explicit keyword will result in an error or misinterpretation.\n",
      "  warnings.warn(\n"
     ]
    },
    {
     "data": {
      "text/plain": [
       "<AxesSubplot:xlabel='item_cnt_day'>"
      ]
     },
     "execution_count": 8,
     "metadata": {},
     "output_type": "execute_result"
    },
    {
     "data": {
      "image/png": "[encoded data removed]",
      "text/plain": [
       "<Figure size 1080x432 with 2 Axes>"
      ]
     },
     "metadata": {
      "needs_background": "light"
     },
     "output_type": "display_data"
    }
   ],
   "source": [
    "fig, (ax1, ax2) = plt.subplots(1, 2, figsize=(15, 6))\n",
    "\n",
    "sns.boxplot(sales_train['item_price'], ax=ax1, whis=99)\n",
    "sns.boxplot(sales_train['item_cnt_day'], ax=ax2, whis=99)"
   ]
  },
  {
   "cell_type": "code",
   "execution_count": 15,
   "metadata": {},
   "outputs": [
    {
     "data": {
      "text/plain": [
       "Text(0.5, 1.0, 'Distribution for \"item_cnt_day\" by date.')"
      ]
     },
     "execution_count": 15,
     "metadata": {},
     "output_type": "execute_result"
    },
    {
     "data": {
      "image/png": "[encoded data removed]",
      "text/plain": [
       "<Figure size 864x504 with 1 Axes>"
      ]
     },
     "metadata": {
      "needs_background": "light"
     },
     "output_type": "display_data"
    }
   ],
   "source": [
    "plt.figure(figsize=(12, 7))\n",
    "\n",
    "x = sales_train.groupby('dayofweek')['item_cnt_day'].mean().sort_values().index\n",
    "y = sales_train.groupby('dayofweek')['item_cnt_day'].mean().sort_values().values - 1.15\n",
    "\n",
    "sns.barplot(x=x, y=y)\n",
    "\n",
    "plt.title('Distribution for \"item_cnt_day\" by date.')"
   ]
  },
  {
   "cell_type": "code",
   "execution_count": 16,
   "metadata": {},
   "outputs": [
    {
     "data": {
      "text/plain": [
       "Text(0.5, 1.0, 'Distribution for \"item_cnt_day\" by date.')"
      ]
     },
     "execution_count": 16,
     "metadata": {},
     "output_type": "execute_result"
    },
    {
     "data": {
      "image/png": "[encoded data removed]",
      "text/plain": [
       "<Figure size 1080x1080 with 2 Axes>"
      ]
     },
     "metadata": {
      "needs_background": "light"
     },
     "output_type": "display_data"
    }
   ],
   "source": [
    "fig, (ax1, ax2) = plt.subplots(2, 1, figsize=(15, 15))\n",
    "\n",
    "x = sales_train.groupby('month')['item_cnt_day'].mean().index\n",
    "y = sales_train.groupby('month')['item_cnt_day'].mean().values - 1\n",
    "\n",
    "sns.barplot(x=x, y=y, ax=ax1)\n",
    "\n",
    "x = sales_train.groupby('month')['item_price'].mean().index\n",
    "y = sales_train.groupby('month')['item_price'].mean().values - 770\n",
    "\n",
    "sns.barplot(x=x, y=y, ax=ax2)\n",
    "\n",
    "ax1.set_title('Distribution for \"item_cnt_day\" by date.')"
   ]
  },
  {
   "cell_type": "code",
   "execution_count": 11,
   "metadata": {},
   "outputs": [
    {
     "data": {
      "text/plain": [
       "Text(0.5, 1.0, 'Distribution for \"item_cnt_day\" by date.')"
      ]
     },
     "execution_count": 11,
     "metadata": {},
     "output_type": "execute_result"
    },
    {
     "data": {
      "image/png": "[encoded data removed]",
      "text/plain": [
       "<Figure size 864x504 with 1 Axes>"
      ]
     },
     "metadata": {
      "needs_background": "light"
     },
     "output_type": "display_data"
    }
   ],
   "source": [
    "plt.figure(figsize=(12, 7))\n",
    "\n",
    "x = sales_train.groupby('year')['item_cnt_day'].mean().index\n",
    "y = sales_train.groupby('year')['item_cnt_day'].mean().values - 1.22\n",
    "\n",
    "sns.barplot(x=x, y=y)\n",
    "\n",
    "plt.title('Distribution for \"item_cnt_day\" by date.')"
   ]
  },
  {
   "cell_type": "code",
   "execution_count": 12,
   "metadata": {},
   "outputs": [
    {
     "data": {
      "image/png": "[encoded data removed]",
      "text/plain": [
       "<Figure size 864x504 with 1 Axes>"
      ]
     },
     "metadata": {
      "needs_background": "light"
     },
     "output_type": "display_data"
    }
   ],
   "source": [
    "plt.figure(figsize=(12, 7))\n",
    "\n",
    "x = sales_train.groupby('shop_type')['item_cnt_day'].mean().sort_values().index\n",
    "y = sales_train.groupby('shop_type')['item_cnt_day'].mean().sort_values().values - 1.1\n",
    "\n",
    "sns.barplot(x=x, y=y)\n",
    "\n",
    "plt.title('Distribution for \"item_cnt_day\" by date.')\n",
    "_ = plt.xticks(rotation=45)"
   ]
  },
  {
   "cell_type": "code",
   "execution_count": 17,
   "metadata": {},
   "outputs": [
    {
     "data": {
      "image/png": "[encoded data removed]",
      "text/plain": [
       "<Figure size 864x504 with 1 Axes>"
      ]
     },
     "metadata": {
      "needs_background": "light"
     },
     "output_type": "display_data"
    }
   ],
   "source": [
    "plt.figure(figsize=(12, 7))\n",
    "\n",
    "x = sales_train.groupby('category')['item_cnt_day'].mean().sort_values().index\n",
    "y = sales_train.groupby('category')['item_cnt_day'].mean().sort_values().values\n",
    "\n",
    "sns.barplot(x=x, y=y)\n",
    "\n",
    "plt.title('Distribution for \"item_cnt_day\" by date.')\n",
    "_ = plt.xticks(rotation=45)"
   ]
  },
  {
   "cell_type": "code",
   "execution_count": 14,
   "metadata": {},
   "outputs": [
    {
     "data": {
      "image/png": "[encoded data removed]",
      "text/plain": [
       "<Figure size 864x504 with 1 Axes>"
      ]
     },
     "metadata": {
      "needs_background": "light"
     },
     "output_type": "display_data"
    }
   ],
   "source": [
    "plt.figure(figsize=(12, 7))\n",
    "\n",
    "x = sales_train.groupby('location')['item_cnt_day'].mean().sort_values().index\n",
    "y = sales_train.groupby('location')['item_cnt_day'].mean().sort_values().values\n",
    "\n",
    "sns.barplot(x=x, y=y)\n",
    "\n",
    "plt.title('Distribution for \"item_cnt_day\" by date.')\n",
    "_ = plt.xticks(rotation=45)"
   ]
  },
  {
   "cell_type": "code",
   "execution_count": null,
   "metadata": {},
   "outputs": [],
   "source": []
  },
  {
   "cell_type": "markdown",
   "metadata": {},
   "source": [
    "## NEW ERA"
   ]
  },
  {
   "cell_type": "code",
   "execution_count": 20,
   "metadata": {},
   "outputs": [
    {
     "data": {
      "text/html": [
       "<div>\n",
       "<style scoped>\n",
       "    .dataframe tbody tr th:only-of-type {\n",
       "        vertical-align: middle;\n",
       "    }\n",
       "\n",
       "    .dataframe tbody tr th {\n",
       "        vertical-align: top;\n",
       "    }\n",
       "\n",
       "    .dataframe thead th {\n",
       "        text-align: right;\n",
       "    }\n",
       "</style>\n",
       "<table border=\"1\" class=\"dataframe\">\n",
       "  <thead>\n",
       "    <tr style=\"text-align: right;\">\n",
       "      <th></th>\n",
       "      <th>date</th>\n",
       "      <th>date_block_num</th>\n",
       "      <th>shop_id</th>\n",
       "      <th>item_id</th>\n",
       "      <th>item_price</th>\n",
       "      <th>item_cnt_day</th>\n",
       "      <th>day</th>\n",
       "      <th>month</th>\n",
       "      <th>dayofweek</th>\n",
       "      <th>year</th>\n",
       "      <th>category</th>\n",
       "      <th>subcategory</th>\n",
       "      <th>location</th>\n",
       "      <th>shop_type</th>\n",
       "    </tr>\n",
       "  </thead>\n",
       "  <tbody>\n",
       "    <tr>\n",
       "      <th>0</th>\n",
       "      <td>2013-01-01</td>\n",
       "      <td>0</td>\n",
       "      <td>18</td>\n",
       "      <td>5823</td>\n",
       "      <td>2500.0</td>\n",
       "      <td>1.0</td>\n",
       "      <td>1</td>\n",
       "      <td>1</td>\n",
       "      <td>Tuesday</td>\n",
       "      <td>2013</td>\n",
       "      <td>Карты оплаты</td>\n",
       "      <td>PSN</td>\n",
       "      <td>Красноярск</td>\n",
       "      <td>ТЦ</td>\n",
       "    </tr>\n",
       "    <tr>\n",
       "      <th>1</th>\n",
       "      <td>2013-01-01</td>\n",
       "      <td>0</td>\n",
       "      <td>27</td>\n",
       "      <td>5573</td>\n",
       "      <td>849.0</td>\n",
       "      <td>1.0</td>\n",
       "      <td>1</td>\n",
       "      <td>1</td>\n",
       "      <td>Tuesday</td>\n",
       "      <td>2013</td>\n",
       "      <td>Аксессуары</td>\n",
       "      <td>PS3</td>\n",
       "      <td>Москва</td>\n",
       "      <td>ТЦ</td>\n",
       "    </tr>\n",
       "    <tr>\n",
       "      <th>2</th>\n",
       "      <td>2013-01-01</td>\n",
       "      <td>0</td>\n",
       "      <td>7</td>\n",
       "      <td>1006</td>\n",
       "      <td>399.0</td>\n",
       "      <td>1.0</td>\n",
       "      <td>1</td>\n",
       "      <td>1</td>\n",
       "      <td>Tuesday</td>\n",
       "      <td>2013</td>\n",
       "      <td>Подарки</td>\n",
       "      <td>Развитие</td>\n",
       "      <td>Воронеж</td>\n",
       "      <td>ТРЦ</td>\n",
       "    </tr>\n",
       "    <tr>\n",
       "      <th>3</th>\n",
       "      <td>2013-01-01</td>\n",
       "      <td>0</td>\n",
       "      <td>19</td>\n",
       "      <td>17707</td>\n",
       "      <td>899.0</td>\n",
       "      <td>1.0</td>\n",
       "      <td>1</td>\n",
       "      <td>1</td>\n",
       "      <td>Tuesday</td>\n",
       "      <td>2013</td>\n",
       "      <td>Игры</td>\n",
       "      <td>PS3</td>\n",
       "      <td>Курск</td>\n",
       "      <td>ТЦ</td>\n",
       "    </tr>\n",
       "    <tr>\n",
       "      <th>4</th>\n",
       "      <td>2013-01-01</td>\n",
       "      <td>0</td>\n",
       "      <td>14</td>\n",
       "      <td>19548</td>\n",
       "      <td>149.0</td>\n",
       "      <td>1.0</td>\n",
       "      <td>1</td>\n",
       "      <td>1</td>\n",
       "      <td>Tuesday</td>\n",
       "      <td>2013</td>\n",
       "      <td>Кино</td>\n",
       "      <td>DVD</td>\n",
       "      <td>Казань</td>\n",
       "      <td>ТЦ</td>\n",
       "    </tr>\n",
       "  </tbody>\n",
       "</table>\n",
       "</div>"
      ],
      "text/plain": [
       "        date  date_block_num  shop_id  item_id  item_price  item_cnt_day  day  \\\n",
       "0 2013-01-01               0       18     5823      2500.0           1.0    1   \n",
       "1 2013-01-01               0       27     5573       849.0           1.0    1   \n",
       "2 2013-01-01               0        7     1006       399.0           1.0    1   \n",
       "3 2013-01-01               0       19    17707       899.0           1.0    1   \n",
       "4 2013-01-01               0       14    19548       149.0           1.0    1   \n",
       "\n",
       "   month dayofweek  year      category subcategory    location shop_type  \n",
       "0      1   Tuesday  2013  Карты оплаты         PSN  Красноярск        ТЦ  \n",
       "1      1   Tuesday  2013    Аксессуары         PS3      Москва        ТЦ  \n",
       "2      1   Tuesday  2013       Подарки    Развитие     Воронеж       ТРЦ  \n",
       "3      1   Tuesday  2013          Игры         PS3       Курск        ТЦ  \n",
       "4      1   Tuesday  2013          Кино         DVD      Казань        ТЦ  "
      ]
     },
     "execution_count": 20,
     "metadata": {},
     "output_type": "execute_result"
    }
   ],
   "source": [
    "sales_train.drop(['shop_location', 'item_category', 'item_name'], axis=1, inplace=True)\n",
    "sales_train.head()"
   ]
  },
  {
   "cell_type": "code",
   "execution_count": 21,
   "metadata": {},
   "outputs": [
    {
     "data": {
      "text/html": [
       "<div>\n",
       "<style scoped>\n",
       "    .dataframe tbody tr th:only-of-type {\n",
       "        vertical-align: middle;\n",
       "    }\n",
       "\n",
       "    .dataframe tbody tr th {\n",
       "        vertical-align: top;\n",
       "    }\n",
       "\n",
       "    .dataframe thead th {\n",
       "        text-align: right;\n",
       "    }\n",
       "</style>\n",
       "<table border=\"1\" class=\"dataframe\">\n",
       "  <thead>\n",
       "    <tr style=\"text-align: right;\">\n",
       "      <th></th>\n",
       "      <th>shop_id</th>\n",
       "      <th>item_id</th>\n",
       "      <th>month</th>\n",
       "      <th>year</th>\n",
       "      <th>date_block_num</th>\n",
       "      <th>item_price</th>\n",
       "      <th>item_cnt_day</th>\n",
       "      <th>day</th>\n",
       "    </tr>\n",
       "  </thead>\n",
       "  <tbody>\n",
       "    <tr>\n",
       "      <th>0</th>\n",
       "      <td>0</td>\n",
       "      <td>30</td>\n",
       "      <td>2</td>\n",
       "      <td>2013</td>\n",
       "      <td>1.0</td>\n",
       "      <td>265.0</td>\n",
       "      <td>3.444444</td>\n",
       "      <td>19.777778</td>\n",
       "    </tr>\n",
       "    <tr>\n",
       "      <th>1</th>\n",
       "      <td>0</td>\n",
       "      <td>31</td>\n",
       "      <td>2</td>\n",
       "      <td>2013</td>\n",
       "      <td>1.0</td>\n",
       "      <td>434.0</td>\n",
       "      <td>1.571429</td>\n",
       "      <td>20.714286</td>\n",
       "    </tr>\n",
       "    <tr>\n",
       "      <th>2</th>\n",
       "      <td>0</td>\n",
       "      <td>32</td>\n",
       "      <td>1</td>\n",
       "      <td>2013</td>\n",
       "      <td>0.0</td>\n",
       "      <td>221.0</td>\n",
       "      <td>1.500000</td>\n",
       "      <td>20.000000</td>\n",
       "    </tr>\n",
       "    <tr>\n",
       "      <th>3</th>\n",
       "      <td>0</td>\n",
       "      <td>32</td>\n",
       "      <td>2</td>\n",
       "      <td>2013</td>\n",
       "      <td>1.0</td>\n",
       "      <td>221.0</td>\n",
       "      <td>1.428571</td>\n",
       "      <td>14.428571</td>\n",
       "    </tr>\n",
       "    <tr>\n",
       "      <th>4</th>\n",
       "      <td>0</td>\n",
       "      <td>33</td>\n",
       "      <td>1</td>\n",
       "      <td>2013</td>\n",
       "      <td>0.0</td>\n",
       "      <td>347.0</td>\n",
       "      <td>1.000000</td>\n",
       "      <td>16.000000</td>\n",
       "    </tr>\n",
       "    <tr>\n",
       "      <th>...</th>\n",
       "      <td>...</td>\n",
       "      <td>...</td>\n",
       "      <td>...</td>\n",
       "      <td>...</td>\n",
       "      <td>...</td>\n",
       "      <td>...</td>\n",
       "      <td>...</td>\n",
       "      <td>...</td>\n",
       "    </tr>\n",
       "    <tr>\n",
       "      <th>1609119</th>\n",
       "      <td>59</td>\n",
       "      <td>22164</td>\n",
       "      <td>4</td>\n",
       "      <td>2015</td>\n",
       "      <td>27.0</td>\n",
       "      <td>699.0</td>\n",
       "      <td>1.000000</td>\n",
       "      <td>26.000000</td>\n",
       "    </tr>\n",
       "    <tr>\n",
       "      <th>1609120</th>\n",
       "      <td>59</td>\n",
       "      <td>22164</td>\n",
       "      <td>7</td>\n",
       "      <td>2015</td>\n",
       "      <td>30.0</td>\n",
       "      <td>699.0</td>\n",
       "      <td>1.000000</td>\n",
       "      <td>21.000000</td>\n",
       "    </tr>\n",
       "    <tr>\n",
       "      <th>1609121</th>\n",
       "      <td>59</td>\n",
       "      <td>22167</td>\n",
       "      <td>6</td>\n",
       "      <td>2014</td>\n",
       "      <td>17.0</td>\n",
       "      <td>299.0</td>\n",
       "      <td>1.000000</td>\n",
       "      <td>14.000000</td>\n",
       "    </tr>\n",
       "    <tr>\n",
       "      <th>1609122</th>\n",
       "      <td>59</td>\n",
       "      <td>22167</td>\n",
       "      <td>10</td>\n",
       "      <td>2013</td>\n",
       "      <td>9.0</td>\n",
       "      <td>299.0</td>\n",
       "      <td>1.000000</td>\n",
       "      <td>25.000000</td>\n",
       "    </tr>\n",
       "    <tr>\n",
       "      <th>1609123</th>\n",
       "      <td>59</td>\n",
       "      <td>22167</td>\n",
       "      <td>12</td>\n",
       "      <td>2013</td>\n",
       "      <td>11.0</td>\n",
       "      <td>299.0</td>\n",
       "      <td>1.000000</td>\n",
       "      <td>8.500000</td>\n",
       "    </tr>\n",
       "  </tbody>\n",
       "</table>\n",
       "<p>1609124 rows × 8 columns</p>\n",
       "</div>"
      ],
      "text/plain": [
       "         shop_id  item_id  month  year  date_block_num  item_price  \\\n",
       "0              0       30      2  2013             1.0       265.0   \n",
       "1              0       31      2  2013             1.0       434.0   \n",
       "2              0       32      1  2013             0.0       221.0   \n",
       "3              0       32      2  2013             1.0       221.0   \n",
       "4              0       33      1  2013             0.0       347.0   \n",
       "...          ...      ...    ...   ...             ...         ...   \n",
       "1609119       59    22164      4  2015            27.0       699.0   \n",
       "1609120       59    22164      7  2015            30.0       699.0   \n",
       "1609121       59    22167      6  2014            17.0       299.0   \n",
       "1609122       59    22167     10  2013             9.0       299.0   \n",
       "1609123       59    22167     12  2013            11.0       299.0   \n",
       "\n",
       "         item_cnt_day        day  \n",
       "0            3.444444  19.777778  \n",
       "1            1.571429  20.714286  \n",
       "2            1.500000  20.000000  \n",
       "3            1.428571  14.428571  \n",
       "4            1.000000  16.000000  \n",
       "...               ...        ...  \n",
       "1609119      1.000000  26.000000  \n",
       "1609120      1.000000  21.000000  \n",
       "1609121      1.000000  14.000000  \n",
       "1609122      1.000000  25.000000  \n",
       "1609123      1.000000   8.500000  \n",
       "\n",
       "[1609124 rows x 8 columns]"
      ]
     },
     "execution_count": 21,
     "metadata": {},
     "output_type": "execute_result"
    }
   ],
   "source": [
    "_ = sales_train.groupby(['shop_id', 'item_id', 'month', 'year']).mean()\n",
    "_ = _.reset_index()\n",
    "_"
   ]
  },
  {
   "cell_type": "code",
   "execution_count": 22,
   "metadata": {},
   "outputs": [
    {
     "data": {
      "text/html": [
       "<div>\n",
       "<style scoped>\n",
       "    .dataframe tbody tr th:only-of-type {\n",
       "        vertical-align: middle;\n",
       "    }\n",
       "\n",
       "    .dataframe tbody tr th {\n",
       "        vertical-align: top;\n",
       "    }\n",
       "\n",
       "    .dataframe thead th {\n",
       "        text-align: right;\n",
       "    }\n",
       "</style>\n",
       "<table border=\"1\" class=\"dataframe\">\n",
       "  <thead>\n",
       "    <tr style=\"text-align: right;\">\n",
       "      <th></th>\n",
       "      <th>shop_id</th>\n",
       "      <th>item_id</th>\n",
       "      <th>month</th>\n",
       "      <th>year</th>\n",
       "      <th>date_block_num</th>\n",
       "      <th>item_price</th>\n",
       "      <th>item_cnt_day</th>\n",
       "      <th>day</th>\n",
       "    </tr>\n",
       "  </thead>\n",
       "  <tbody>\n",
       "    <tr>\n",
       "      <th>8113</th>\n",
       "      <td>2</td>\n",
       "      <td>31</td>\n",
       "      <td>10</td>\n",
       "      <td>2015</td>\n",
       "      <td>33.0</td>\n",
       "      <td>399.0</td>\n",
       "      <td>1.0</td>\n",
       "      <td>25.000000</td>\n",
       "    </tr>\n",
       "    <tr>\n",
       "      <th>8204</th>\n",
       "      <td>2</td>\n",
       "      <td>486</td>\n",
       "      <td>10</td>\n",
       "      <td>2015</td>\n",
       "      <td>33.0</td>\n",
       "      <td>300.0</td>\n",
       "      <td>1.0</td>\n",
       "      <td>14.666667</td>\n",
       "    </tr>\n",
       "    <tr>\n",
       "      <th>8254</th>\n",
       "      <td>2</td>\n",
       "      <td>787</td>\n",
       "      <td>10</td>\n",
       "      <td>2015</td>\n",
       "      <td>33.0</td>\n",
       "      <td>420.0</td>\n",
       "      <td>1.0</td>\n",
       "      <td>22.000000</td>\n",
       "    </tr>\n",
       "    <tr>\n",
       "      <th>8284</th>\n",
       "      <td>2</td>\n",
       "      <td>794</td>\n",
       "      <td>10</td>\n",
       "      <td>2015</td>\n",
       "      <td>33.0</td>\n",
       "      <td>3300.0</td>\n",
       "      <td>1.0</td>\n",
       "      <td>4.000000</td>\n",
       "    </tr>\n",
       "    <tr>\n",
       "      <th>8367</th>\n",
       "      <td>2</td>\n",
       "      <td>968</td>\n",
       "      <td>10</td>\n",
       "      <td>2015</td>\n",
       "      <td>33.0</td>\n",
       "      <td>58.0</td>\n",
       "      <td>1.0</td>\n",
       "      <td>17.000000</td>\n",
       "    </tr>\n",
       "    <tr>\n",
       "      <th>...</th>\n",
       "      <td>...</td>\n",
       "      <td>...</td>\n",
       "      <td>...</td>\n",
       "      <td>...</td>\n",
       "      <td>...</td>\n",
       "      <td>...</td>\n",
       "      <td>...</td>\n",
       "      <td>...</td>\n",
       "    </tr>\n",
       "    <tr>\n",
       "      <th>1608994</th>\n",
       "      <td>59</td>\n",
       "      <td>22087</td>\n",
       "      <td>10</td>\n",
       "      <td>2015</td>\n",
       "      <td>33.0</td>\n",
       "      <td>119.0</td>\n",
       "      <td>2.0</td>\n",
       "      <td>15.333333</td>\n",
       "    </tr>\n",
       "    <tr>\n",
       "      <th>1609026</th>\n",
       "      <td>59</td>\n",
       "      <td>22088</td>\n",
       "      <td>10</td>\n",
       "      <td>2015</td>\n",
       "      <td>33.0</td>\n",
       "      <td>119.0</td>\n",
       "      <td>1.0</td>\n",
       "      <td>15.000000</td>\n",
       "    </tr>\n",
       "    <tr>\n",
       "      <th>1609043</th>\n",
       "      <td>59</td>\n",
       "      <td>22091</td>\n",
       "      <td>10</td>\n",
       "      <td>2015</td>\n",
       "      <td>33.0</td>\n",
       "      <td>179.0</td>\n",
       "      <td>1.0</td>\n",
       "      <td>3.000000</td>\n",
       "    </tr>\n",
       "    <tr>\n",
       "      <th>1609073</th>\n",
       "      <td>59</td>\n",
       "      <td>22100</td>\n",
       "      <td>10</td>\n",
       "      <td>2015</td>\n",
       "      <td>33.0</td>\n",
       "      <td>629.0</td>\n",
       "      <td>1.0</td>\n",
       "      <td>18.000000</td>\n",
       "    </tr>\n",
       "    <tr>\n",
       "      <th>1609076</th>\n",
       "      <td>59</td>\n",
       "      <td>22102</td>\n",
       "      <td>10</td>\n",
       "      <td>2015</td>\n",
       "      <td>33.0</td>\n",
       "      <td>1250.0</td>\n",
       "      <td>1.0</td>\n",
       "      <td>16.000000</td>\n",
       "    </tr>\n",
       "  </tbody>\n",
       "</table>\n",
       "<p>31531 rows × 8 columns</p>\n",
       "</div>"
      ],
      "text/plain": [
       "         shop_id  item_id  month  year  date_block_num  item_price  \\\n",
       "8113           2       31     10  2015            33.0       399.0   \n",
       "8204           2      486     10  2015            33.0       300.0   \n",
       "8254           2      787     10  2015            33.0       420.0   \n",
       "8284           2      794     10  2015            33.0      3300.0   \n",
       "8367           2      968     10  2015            33.0        58.0   \n",
       "...          ...      ...    ...   ...             ...         ...   \n",
       "1608994       59    22087     10  2015            33.0       119.0   \n",
       "1609026       59    22088     10  2015            33.0       119.0   \n",
       "1609043       59    22091     10  2015            33.0       179.0   \n",
       "1609073       59    22100     10  2015            33.0       629.0   \n",
       "1609076       59    22102     10  2015            33.0      1250.0   \n",
       "\n",
       "         item_cnt_day        day  \n",
       "8113              1.0  25.000000  \n",
       "8204              1.0  14.666667  \n",
       "8254              1.0  22.000000  \n",
       "8284              1.0   4.000000  \n",
       "8367              1.0  17.000000  \n",
       "...               ...        ...  \n",
       "1608994           2.0  15.333333  \n",
       "1609026           1.0  15.000000  \n",
       "1609043           1.0   3.000000  \n",
       "1609073           1.0  18.000000  \n",
       "1609076           1.0  16.000000  \n",
       "\n",
       "[31531 rows x 8 columns]"
      ]
     },
     "execution_count": 22,
     "metadata": {},
     "output_type": "execute_result"
    }
   ],
   "source": [
    "_[(_['month'] == 10) & (_['year'] == 2015)]"
   ]
  },
  {
   "cell_type": "code",
   "execution_count": null,
   "metadata": {},
   "outputs": [],
   "source": [
    "test"
   ]
  },
  {
   "cell_type": "code",
   "execution_count": null,
   "metadata": {},
   "outputs": [],
   "source": []
  },
  {
   "cell_type": "code",
   "execution_count": null,
   "metadata": {},
   "outputs": [],
   "source": []
  },
  {
   "cell_type": "code",
   "execution_count": null,
   "metadata": {},
   "outputs": [],
   "source": []
  },
  {
   "cell_type": "code",
   "execution_count": null,
   "metadata": {},
   "outputs": [],
   "source": []
  },
  {
   "cell_type": "code",
   "execution_count": null,
   "metadata": {},
   "outputs": [],
   "source": []
  },
  {
   "cell_type": "code",
   "execution_count": null,
   "metadata": {},
   "outputs": [],
   "source": []
  },
  {
   "cell_type": "code",
   "execution_count": null,
   "metadata": {},
   "outputs": [],
   "source": []
  },
  {
   "cell_type": "code",
   "execution_count": null,
   "metadata": {},
   "outputs": [],
   "source": []
  },
  {
   "cell_type": "code",
   "execution_count": null,
   "metadata": {},
   "outputs": [],
   "source": []
  },
  {
   "cell_type": "code",
   "execution_count": null,
   "metadata": {},
   "outputs": [],
   "source": []
  },
  {
   "cell_type": "code",
   "execution_count": null,
   "metadata": {},
   "outputs": [],
   "source": []
  },
  {
   "cell_type": "code",
   "execution_count": null,
   "metadata": {},
   "outputs": [],
   "source": []
  },
  {
   "cell_type": "code",
   "execution_count": null,
   "metadata": {},
   "outputs": [],
   "source": []
  },
  {
   "cell_type": "code",
   "execution_count": null,
   "metadata": {},
   "outputs": [],
   "source": []
  },
  {
   "cell_type": "code",
   "execution_count": null,
   "metadata": {},
   "outputs": [],
   "source": []
  },
  {
   "cell_type": "code",
   "execution_count": null,
   "metadata": {},
   "outputs": [],
   "source": []
  },
  {
   "cell_type": "code",
   "execution_count": null,
   "metadata": {},
   "outputs": [],
   "source": []
  },
  {
   "cell_type": "code",
   "execution_count": null,
   "metadata": {},
   "outputs": [],
   "source": []
  },
  {
   "cell_type": "code",
   "execution_count": null,
   "metadata": {},
   "outputs": [],
   "source": []
  },
  {
   "cell_type": "code",
   "execution_count": null,
   "metadata": {},
   "outputs": [],
   "source": [
    "def save_submission(name, prediction):\n",
    "    submission = pd.DataFrame(columns=['ID', 'item_cnt_month'])\n",
    "    submission['item_cnt_month'] = prediction\n",
    "    submission['ID'] = submission.index\n",
    "    submission.to_csv(name, index=False)\n",
    "    \n",
    "    print(\"File was submitted to path: {}\".format(name))\n",
    "    "
   ]
  },
  {
   "cell_type": "code",
   "execution_count": null,
   "metadata": {},
   "outputs": [],
   "source": [
    "sample_submission['item_cnt_month'] = 1\n",
    "save_submission('sample_sub_1.csv', sample_submission['item_cnt_month'])"
   ]
  },
  {
   "cell_type": "code",
   "execution_count": null,
   "metadata": {},
   "outputs": [],
   "source": []
  }
 ],
 "metadata": {
  "kernelspec": {
   "display_name": "Python 3",
   "language": "python",
   "name": "python3"
  },
  "language_info": {
   "codemirror_mode": {
    "name": "ipython",
    "version": 3
   },
   "file_extension": ".py",
   "mimetype": "text/x-python",
   "name": "python",
   "nbconvert_exporter": "python",
   "pygments_lexer": "ipython3",
   "version": "3.8.5"
  }
 },
 "nbformat": 4,
 "nbformat_minor": 4
}
