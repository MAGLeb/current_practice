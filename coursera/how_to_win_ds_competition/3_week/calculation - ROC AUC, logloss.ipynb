{
 "cells": [
  {
   "cell_type": "code",
   "execution_count": 5,
   "metadata": {},
   "outputs": [],
   "source": [
    "from sklearn.metrics import roc_auc_score, confusion_matrix\n",
    "import numpy as np"
   ]
  },
  {
   "cell_type": "code",
   "execution_count": 6,
   "metadata": {},
   "outputs": [],
   "source": [
    "target = [1,0,1,1,1,0,0]\n",
    "prediction = [0.39, 0.52, 0.91, 0.85, 0.49, 0.02, 0.44]"
   ]
  },
  {
   "cell_type": "code",
   "execution_count": 7,
   "metadata": {},
   "outputs": [
    {
     "data": {
      "text/plain": [
       "array([2, 1, 2, 2])"
      ]
     },
     "execution_count": 7,
     "metadata": {},
     "output_type": "execute_result"
    }
   ],
   "source": [
    "confusion_matrix(target, np.round(prediction)).ravel()"
   ]
  },
  {
   "cell_type": "code",
   "execution_count": 8,
   "metadata": {},
   "outputs": [
    {
     "data": {
      "text/plain": [
       "0.75"
      ]
     },
     "execution_count": 8,
     "metadata": {},
     "output_type": "execute_result"
    }
   ],
   "source": [
    "roc_auc_score(target, prediction)"
   ]
  },
  {
   "cell_type": "markdown",
   "metadata": {},
   "source": [
    "## LOGLOSS"
   ]
  },
  {
   "cell_type": "markdown",
   "metadata": {},
   "source": [
    "<img src=\"https://miro.medium.com/max/1030/1*BQHzUwnmHyzEX0aeBBUcsQ.jpeg\">"
   ]
  },
  {
   "cell_type": "code",
   "execution_count": 21,
   "metadata": {},
   "outputs": [],
   "source": [
    "def logloss(target, prediction):\n",
    "    n = len(target)\n",
    "    \n",
    "    if n != len(prediction):\n",
    "        raise ValueError\n",
    "        \n",
    "    target = np.array(target)\n",
    "    prediction = np.array(prediction)\n",
    "    summ = 0\n",
    "    \n",
    "    for t, p in zip(target, prediction):\n",
    "        summ += t * np.log(p) + (1 - t) * np.log(1 - p)\n",
    "    \n",
    "    return - summ / n"
   ]
  },
  {
   "cell_type": "code",
   "execution_count": 26,
   "metadata": {},
   "outputs": [],
   "source": [
    "target = [0, 0, 0, 0]\n",
    "one = np.array([0.4, 0.5, 0.5, 0.6])\n",
    "two = np.array([0.5, 0.5, 0.5, 0.5])\n",
    "three = np.array([0, 0, 0, 1])\n"
   ]
  },
  {
   "cell_type": "code",
   "execution_count": 27,
   "metadata": {},
   "outputs": [
    {
     "name": "stdout",
     "output_type": "stream",
     "text": [
      "0.7033526791900091\n",
      "0.6931471805599453\n",
      "nan\n"
     ]
    },
    {
     "name": "stderr",
     "output_type": "stream",
     "text": [
      "<ipython-input-21-624e11b438f8>:12: RuntimeWarning: divide by zero encountered in log\n",
      "  summ += t * np.log(p) + (1 - t) * np.log(1 - p)\n",
      "<ipython-input-21-624e11b438f8>:12: RuntimeWarning: invalid value encountered in multiply\n",
      "  summ += t * np.log(p) + (1 - t) * np.log(1 - p)\n"
     ]
    }
   ],
   "source": [
    "for guess in (one, two, three):\n",
    "    print(logloss(target, guess))"
   ]
  },
  {
   "cell_type": "markdown",
   "metadata": {},
   "source": [
    "## MultyClass LOGLOSS"
   ]
  },
  {
   "cell_type": "markdown",
   "metadata": {},
   "source": [
    "<img src=\"https://miro.medium.com/max/1310/1*nX8y3JTdypy99Kq0vfvuBw.png\"/>"
   ]
  },
  {
   "cell_type": "code",
   "execution_count": null,
   "metadata": {},
   "outputs": [],
   "source": []
  }
 ],
 "metadata": {
  "kernelspec": {
   "display_name": "Python 3",
   "language": "python",
   "name": "python3"
  },
  "language_info": {
   "codemirror_mode": {
    "name": "ipython",
    "version": 3
   },
   "file_extension": ".py",
   "mimetype": "text/x-python",
   "name": "python",
   "nbconvert_exporter": "python",
   "pygments_lexer": "ipython3",
   "version": "3.8.5"
  }
 },
 "nbformat": 4,
 "nbformat_minor": 4
}
