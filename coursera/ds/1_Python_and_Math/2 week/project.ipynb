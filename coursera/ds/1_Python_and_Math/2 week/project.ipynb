{
 "cells": [
  {
   "cell_type": "markdown",
   "metadata": {},
   "source": [
    "<h1>FIRST TASK</h1>"
   ]
  },
  {
   "cell_type": "code",
   "execution_count": 24,
   "metadata": {},
   "outputs": [
    {
     "data": {
      "text/plain": [
       "['in comparison to dogs, cats have not undergone major changes during the domestication process.',\n",
       " 'as cat simply catenates streams of bytes, it can be also used to concatenate binary files, where it will just concatenate sequence of bytes.',\n",
       " 'a common interactive use of cat for a single file is to output the content of a file to standard output.',\n",
       " 'cats can hear sounds too faint or too high in frequency for human ears, such as those made by mice and other small animals.',\n",
       " 'in one, people deliberately tamed cats in a process of artificial selection, as they were useful predators of vermin.',\n",
       " 'the domesticated cat and its closest wild ancestor are both diploid organisms that possess 38 chromosomes and roughly 20,000 genes.',\n",
       " 'domestic cats are similar in size to the other members of the genus felis, typically weighing between 4 and 5 kg (8.8 and 11.0 lb).',\n",
       " 'however, if the output is piped or redirected, cat is unnecessary.',\n",
       " 'cat with one named file is safer where human error is a concern - one wrong use of the default redirection symbol \">\" instead of \"<\" (often adjacent on keyboards) may permanently delete the file you were just needing to read.',\n",
       " 'in terms of legibility, a sequence of commands starting with cat and connected by pipes has a clear left-to-right flow of information.',\n",
       " 'cat command is one of the basic commands that you learned when you started in the unix / linux world.',\n",
       " 'using cat command, the lines received from stdin can be redirected to a new file using redirection symbols.',\n",
       " 'when you type simply cat command without any arguments, it just receives the stdin content and displays it in the stdout.',\n",
       " 'leopard was released on october 26, 2007 as the successor of tiger (version 10.4), and is available in two editions.',\n",
       " 'according to apple, leopard contains over 300 changes and enhancements over its predecessor, mac os x tiger.',\n",
       " 'as of mid 2010, some apple computers have firmware factory installed which will no longer allow installation of mac os x leopard.',\n",
       " 'since apple moved to using intel processors in their computers, the osx86 community has developed and now also allows mac os x tiger and later releases to be installed on non-apple x86-based computers.',\n",
       " \"os x mountain lion was released on july 25, 2012 for purchase and download through apple's mac app store, as part of a switch to releasing os x versions online and every year.\",\n",
       " 'apple has released a small patch for the three most recent versions of safari running on os x yosemite, mavericks, and mountain lion.',\n",
       " 'the mountain lion release marks the second time apple has offered an incremental upgrade, rather than releasing a new cat entirely.',\n",
       " \"mac os x mountain lion installs in place, so you won't need to create a separate disk or run the installation off an external drive.\",\n",
       " \"the fifth major update to mac os x, leopard, contains such a mountain of features - more than 300 by apple's count.\"]"
      ]
     },
     "execution_count": 24,
     "metadata": {},
     "output_type": "execute_result"
    }
   ],
   "source": [
    "f = open('input.txt', 'r')\n",
    "sentenses = list(map(lambda x: x.strip().lower(), f.readlines()))\n",
    "\n",
    "sentenses"
   ]
  },
  {
   "cell_type": "code",
   "execution_count": 25,
   "metadata": {},
   "outputs": [
    {
     "name": "stdout",
     "output_type": "stream",
     "text": [
      "['in', 'comparison', 'to', 'dogs', 'cats', 'have', 'not', 'undergone', 'major', 'changes', 'during', 'the', 'domestication', 'process', 'as', 'cat', 'simply', 'catenates', 'streams', 'of', 'bytes', 'it', 'can', 'be', 'also', 'used', 'concatenate', 'binary', 'files', 'where', 'will', 'just', 'sequence', 'a', 'common', 'interactive', 'use', 'for', 'single', 'file', 'is', 'output', 'content', 'standard', 'hear', 'sounds', 'too', 'faint', 'or', 'high', 'frequency', 'human', 'ears', 'such', 'those', 'made', 'by', 'mice', 'and', 'other', 'small', 'animals', 'one', 'people', 'deliberately', 'tamed', 'artificial', 'selection', 'they', 'were', 'useful', 'predators', 'vermin', 'domesticated', 'its', 'closest', 'wild', 'ancestor', 'are', 'both', 'diploid', 'organisms', 'that', 'possess', 'chromosomes', 'roughly', 'genes', 'domestic', 'similar', 'size', 'members', 'genus', 'felis', 'typically', 'weighing', 'between', 'kg', 'lb', 'however', 'if', 'piped', 'redirected', 'unnecessary', 'with', 'named', 'safer', 'error', 'concern', 'wrong', 'default', 'redirection', 'symbol', 'instead', 'often', 'adjacent', 'on', 'keyboards', 'may', 'permanently', 'delete', 'you', 'needing', 'read', 'terms', 'legibility', 'commands', 'starting', 'connected', 'pipes', 'has', 'clear', 'left', 'right', 'flow', 'information', 'command', 'basic', 'learned', 'when', 'started', 'unix', 'linux', 'world', 'using', 'lines', 'received', 'from', 'stdin', 'new', 'symbols', 'type', 'without', 'any', 'arguments', 'receives', 'displays', 'stdout', 'leopard', 'was', 'released', 'october', 'successor', 'tiger', 'version', 'available', 'two', 'editions', 'according', 'apple', 'contains', 'over', 'enhancements', 'predecessor', 'mac', 'os', 'x', 'mid', 'some', 'computers', 'firmware', 'factory', 'installed', 'which', 'no', 'longer', 'allow', 'installation', 'since', 'moved', 'intel', 'processors', 'their', 'osx', 'community', 'developed', 'now', 'allows', 'later', 'releases', 'non', 'based', 'mountain', 'lion', 'july', 'purchase', 'download', 'through', 's', 'app', 'store', 'part', 'switch', 'releasing', 'versions', 'online', 'every', 'year', 'patch', 'three', 'most', 'recent', 'safari', 'running', 'yosemite', 'mavericks', 'release', 'marks', 'second', 'time', 'offered', 'an', 'incremental', 'upgrade', 'rather', 'than', 'entirely', 'installs', 'place', 'so', 'won', 't', 'need', 'create', 'separate', 'disk', 'run', 'off', 'external', 'drive', 'fifth', 'update', 'features', 'more', 'count']\n",
      "\n",
      "22\n"
     ]
    }
   ],
   "source": [
    "import nltk\n",
    "from nltk.tokenize import RegexpTokenizer\n",
    "\n",
    "tokenizer = RegexpTokenizer(r'[a-z]+')\n",
    "\n",
    "indexWords = list()\n",
    "arrayOfDicts = list()\n",
    "\n",
    "def addWordsToDict(sentense):\n",
    "    dictionary = dict()\n",
    "    \n",
    "    words = tokenizer.tokenize(sentense)\n",
    "    \n",
    "    for word in words:\n",
    "        if word in dictionary:\n",
    "            dictionary[word] += 1\n",
    "        else:\n",
    "            dictionary[word] = 1\n",
    "            \n",
    "        if word not in indexWords:\n",
    "            indexWords.append(word)\n",
    "            \n",
    "    arrayOfDicts.append(dictionary)\n",
    "\n",
    "\n",
    "for sentense in sentenses:\n",
    "    addWordsToDict(sentense)\n",
    "\n",
    "    \n",
    "print(indexWords)\n",
    "print()\n",
    "print(len(arrayOfDicts))"
   ]
  },
  {
   "cell_type": "code",
   "execution_count": 26,
   "metadata": {},
   "outputs": [
    {
     "name": "stdout",
     "output_type": "stream",
     "text": [
      "[[1 1 1 ... 0 0 0]\n",
      " [0 0 1 ... 0 0 0]\n",
      " [0 0 2 ... 0 0 0]\n",
      " ...\n",
      " [0 0 0 ... 0 0 0]\n",
      " [1 0 1 ... 0 0 0]\n",
      " [0 0 1 ... 1 1 1]]\n",
      "\n",
      "(22, 254)\n"
     ]
    }
   ],
   "source": [
    "import numpy as np\n",
    "\n",
    "result = []\n",
    "\n",
    "for dictionary in arrayOfDicts:\n",
    "    resultArray = []\n",
    "\n",
    "    for word in indexWords:\n",
    "        count = 0\n",
    "\n",
    "        if word in dictionary:\n",
    "            resultArray.append(dictionary[word])\n",
    "        else:\n",
    "            resultArray.append(0)\n",
    "\n",
    "    result.append(resultArray)\n",
    "\n",
    "\n",
    "matrix = np.array(result)\n",
    "\n",
    "print(matrix)\n",
    "print()\n",
    "print(matrix.shape)\n"
   ]
  },
  {
   "cell_type": "code",
   "execution_count": 27,
   "metadata": {},
   "outputs": [
    {
     "data": {
      "text/plain": [
       "22"
      ]
     },
     "execution_count": 27,
     "metadata": {},
     "output_type": "execute_result"
    }
   ],
   "source": [
    "matrix.shape[0]"
   ]
  },
  {
   "cell_type": "code",
   "execution_count": 138,
   "metadata": {},
   "outputs": [
    {
     "name": "stdout",
     "output_type": "stream",
     "text": [
      "0.9527544408738466 1\n",
      "0.8644738145642124 2\n",
      "0.8951715163278082 3\n",
      "0.7770887149698589 4\n",
      "0.9402385695332803 5\n",
      "0.7327387580875756 6\n",
      "0.9258750683338899 7\n",
      "0.8842724875284311 8\n",
      "0.9055088817476932 9\n",
      "0.8328165362273942 10\n",
      "0.8804771390665607 11\n",
      "0.8396432548525454 12\n",
      "0.8703592552895671 13\n",
      "0.8740118423302576 14\n",
      "0.9442721787424647 15\n",
      "0.8406361854220809 16\n",
      "0.956644501523794 17\n",
      "0.9442721787424647 18\n",
      "0.8885443574849294 19\n",
      "0.8427572744917122 20\n"
     ]
    }
   ],
   "source": [
    "from scipy.spatial import distance\n",
    "\n",
    "cosine = []\n",
    "\n",
    "for i in range(1, matrix.shape[0] - 1):\n",
    "    cos = distance.cosine(matrix[0], matrix[i])\n",
    "    cosine.append(cos)\n",
    "    print(cos, i)"
   ]
  },
  {
   "cell_type": "code",
   "execution_count": 142,
   "metadata": {},
   "outputs": [
    {
     "name": "stdout",
     "output_type": "stream",
     "text": [
      "6\n",
      "4\n"
     ]
    }
   ],
   "source": [
    "import heapq\n",
    "\n",
    "minDistance = heapq.nsmallest(2, cosine)\n",
    "\n",
    "first = cosine.index(minDistance[0]) + 1\n",
    "second = cosine.index(minDistance[1]) + 1\n",
    "\n",
    "print(first)\n",
    "print(second)\n"
   ]
  },
  {
   "cell_type": "code",
   "execution_count": 143,
   "metadata": {},
   "outputs": [],
   "source": [
    "f = open('output.txt', 'w')\n",
    "f.write(str(second) + ' ' + str(first))\n",
    "f.close()"
   ]
  },
  {
   "cell_type": "markdown",
   "metadata": {},
   "source": [
    "<h1>SECOND TASK</h1>"
   ]
  },
  {
   "cell_type": "code",
   "execution_count": 113,
   "metadata": {},
   "outputs": [],
   "source": [
    "import math\n",
    "import matplotlib.pyplot as plt\n",
    "from scipy.linalg import solve\n",
    "\n",
    "def hard(x):\n",
    "    return math.sin(x / 5.) * math.exp(x / 10.) + 5. * math.exp(-x / 2.)\n",
    "\n",
    "def degree(x, array):\n",
    "    array = array[::-1]\n",
    "    result = array[0]\n",
    "    degree = 1\n",
    "    \n",
    "    for w in array[1:]:\n",
    "        result += w * (x ** degree)\n",
    "        degree += 1\n",
    "    \n",
    "    return result\n",
    "    "
   ]
  },
  {
   "cell_type": "code",
   "execution_count": 114,
   "metadata": {},
   "outputs": [
    {
     "name": "stdout",
     "output_type": "stream",
     "text": [
      "matrix [[ 1  1]\n",
      " [15  1]]\n",
      "vector [3.25221687 0.63522142]\n",
      "coeff [-0.18692825  3.43914511]\n"
     ]
    }
   ],
   "source": [
    "a = np.array([[1, 1], [15, 1]])\n",
    "b = np.array([hard(1), hard(15)])\n",
    "\n",
    "print('matrix', a)\n",
    "print('vector', b)\n",
    "W_i = solve(a, b)\n",
    "print('coeff', W_i)\n",
    "\n",
    "valueHard = []\n",
    "valueLinear = []\n",
    "\n",
    "for i in range(1, 18):\n",
    "    valueHard.append(hard(i))\n",
    "    valueLinear.append(degree(i, W_i))"
   ]
  },
  {
   "cell_type": "code",
   "execution_count": 115,
   "metadata": {},
   "outputs": [
    {
     "data": {
      "image/png": "[encoded data removed]",
      "text/plain": [
       "<Figure size 432x288 with 1 Axes>"
      ]
     },
     "metadata": {
      "needs_background": "light"
     },
     "output_type": "display_data"
    }
   ],
   "source": [
    "plt.plot(valueHard)\n",
    "plt.plot(valueLinear)\n",
    "plt.show()"
   ]
  },
  {
   "cell_type": "code",
   "execution_count": 116,
   "metadata": {},
   "outputs": [
    {
     "name": "stdout",
     "output_type": "stream",
     "text": [
      "matrix [[  1   1   1]\n",
      " [ 64   8   1]\n",
      " [225  15   1]]\n",
      "vector [3.25221687 2.31617016 0.63522142]\n",
      "coeff [-0.00760104 -0.06531159  3.32512949]\n"
     ]
    }
   ],
   "source": [
    "a = np.array([[1, 1, 1], [64, 8, 1], [225, 15, 1]])\n",
    "b = np.array([hard(1), hard(8), hard(15)])\n",
    "\n",
    "print('matrix', a)\n",
    "print('vector', b)\n",
    "W_i = solve(a, b)\n",
    "print('coeff', W_i)\n",
    "\n",
    "valueHard = []\n",
    "valueLinear = []\n",
    "\n",
    "for i in range(1, 18):\n",
    "    valueHard.append(hard(i))\n",
    "    valueLinear.append(degree(i, W_i))"
   ]
  },
  {
   "cell_type": "code",
   "execution_count": 117,
   "metadata": {},
   "outputs": [
    {
     "data": {
      "image/png": "[encoded data removed]",
      "text/plain": [
       "<Figure size 432x288 with 1 Axes>"
      ]
     },
     "metadata": {
      "needs_background": "light"
     },
     "output_type": "display_data"
    }
   ],
   "source": [
    "plt.plot(valueHard)\n",
    "plt.plot(valueLinear)\n",
    "plt.show()"
   ]
  },
  {
   "cell_type": "code",
   "execution_count": 121,
   "metadata": {},
   "outputs": [
    {
     "name": "stdout",
     "output_type": "stream",
     "text": [
      "matrix [[   1    1    1    1]\n",
      " [  64   16    4    1]\n",
      " [1000  100   10    1]\n",
      " [3375  225   15    1]]\n",
      "vector [3.25221687 1.74684595 2.50541641 0.63522142]\n",
      "coeff [-0.00823565  0.19333685 -1.29552587  4.36264154]\n"
     ]
    }
   ],
   "source": [
    "a = np.array([[1, 1, 1, 1], [64, 16, 4, 1], [1000, 100, 10, 1], [3375, 225, 15, 1]])\n",
    "b = np.array([hard(1), hard(4), hard(10), hard(15)])\n",
    "\n",
    "print('matrix', a)\n",
    "print('vector', b)\n",
    "W_i = solve(a, b)\n",
    "print('coeff', W_i)\n",
    "\n",
    "valueHard = []\n",
    "valueLinear = []\n",
    "\n",
    "for i in range(1, 18):\n",
    "    valueHard.append(hard(i))\n",
    "    valueLinear.append(degree(i, W_i))"
   ]
  },
  {
   "cell_type": "code",
   "execution_count": 122,
   "metadata": {},
   "outputs": [
    {
     "data": {
      "image/png": "[encoded data removed]",
      "text/plain": [
       "<Figure size 432x288 with 1 Axes>"
      ]
     },
     "metadata": {
      "needs_background": "light"
     },
     "output_type": "display_data"
    }
   ],
   "source": [
    "plt.plot(valueHard)\n",
    "plt.plot(valueLinear)\n",
    "plt.show()"
   ]
  },
  {
   "cell_type": "code",
   "execution_count": 126,
   "metadata": {},
   "outputs": [],
   "source": [
    "f = open('output-2.txt', 'w')\n",
    "f.write(' '.join(map(str, W_i[::-1].round(3))))\n",
    "f.close()"
   ]
  },
  {
   "cell_type": "code",
   "execution_count": null,
   "metadata": {},
   "outputs": [],
   "source": []
  }
 ],
 "metadata": {
  "kernelspec": {
   "display_name": "Python 3",
   "language": "python",
   "name": "python3"
  },
  "language_info": {
   "codemirror_mode": {
    "name": "ipython",
    "version": 3
   },
   "file_extension": ".py",
   "mimetype": "text/x-python",
   "name": "python",
   "nbconvert_exporter": "python",
   "pygments_lexer": "ipython3",
   "version": "3.7.4"
  }
 },
 "nbformat": 4,
 "nbformat_minor": 2
}
